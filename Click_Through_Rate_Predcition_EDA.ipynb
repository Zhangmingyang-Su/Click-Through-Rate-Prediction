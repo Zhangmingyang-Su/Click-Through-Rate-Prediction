{
  "nbformat": 4,
  "nbformat_minor": 0,
  "metadata": {
    "colab": {
      "name": "Click Through Rate Predcition-EDA.ipynb",
      "provenance": [],
      "collapsed_sections": [],
      "authorship_tag": "ABX9TyOwLpHLYOCUD/KnIEvnEUzK",
      "include_colab_link": true
    },
    "kernelspec": {
      "name": "python3",
      "display_name": "Python 3"
    }
  },
  "cells": [
    {
      "cell_type": "markdown",
      "metadata": {
        "id": "view-in-github",
        "colab_type": "text"
      },
      "source": [
        "<a href=\"https://colab.research.google.com/github/Zhangmingyang-Su/ads-project/blob/master/Click_Through_Rate_Predcition_EDA.ipynb\" target=\"_parent\"><img src=\"https://colab.research.google.com/assets/colab-badge.svg\" alt=\"Open In Colab\"/></a>"
      ]
    },
    {
      "cell_type": "markdown",
      "metadata": {
        "id": "cRphUjcqMpO3",
        "colab_type": "text"
      },
      "source": [
        "# Topic: Click through rate - dataset by kaggle"
      ]
    },
    {
      "cell_type": "markdown",
      "metadata": {
        "id": "GK6qDAjDNWHT",
        "colab_type": "text"
      },
      "source": [
        "## Main Procedures:\n",
        "#### 1. Spark envrionment setup\n",
        "#### 2. EDA\n",
        "#### 3. Feature Preprocessing\n",
        "#### 4. ML Model Selection\n",
        "#### 5. Feature Importance\n",
        "#### 6. Insight from Conclusion"
      ]
    },
    {
      "cell_type": "markdown",
      "metadata": {
        "id": "WoWOt3p1OZok",
        "colab_type": "text"
      },
      "source": [
        "##0. Spark Setup"
      ]
    },
    {
      "cell_type": "code",
      "metadata": {
        "id": "D4X9rCQSOokZ",
        "colab_type": "code",
        "outputId": "4477c9ac-f7d8-4580-f30d-0c4c5aa10d3d",
        "colab": {
          "base_uri": "https://localhost:8080/",
          "height": 52
        }
      },
      "source": [
        "!apt-get install openjdk-8-jdk-headless -qq > /dev/null\n",
        "!wget -q http://apache.mirrors.hoobly.com/spark/spark-2.4.5/spark-2.4.5-bin-hadoop2.7.tgz\n",
        "!tar xf spark-2.4.5-bin-hadoop2.7.tgz\n",
        "!pip install -q findspark\n",
        "!pip install py4j"
      ],
      "execution_count": 10,
      "outputs": [
        {
          "output_type": "stream",
          "text": [
            "^C\n",
            "Requirement already satisfied: py4j in /usr/local/lib/python3.6/dist-packages (0.10.9)\n"
          ],
          "name": "stdout"
        }
      ]
    },
    {
      "cell_type": "code",
      "metadata": {
        "id": "UQ0irI6AOriK",
        "colab_type": "code",
        "outputId": "abf2740b-e3a3-4ebe-bf7c-d93e1699444c",
        "colab": {
          "base_uri": "https://localhost:8080/",
          "height": 69
        }
      },
      "source": [
        "!ls"
      ],
      "execution_count": 11,
      "outputs": [
        {
          "output_type": "stream",
          "text": [
            "filtered_train.csv\t   spark-2.4.5-bin-hadoop2.7.tgz\n",
            "sample_data\t\t   spark-2.4.5-bin-hadoop2.7.tgz.1\n",
            "spark-2.4.5-bin-hadoop2.7\n"
          ],
          "name": "stdout"
        }
      ]
    },
    {
      "cell_type": "code",
      "metadata": {
        "id": "UjUjSt0ZOvEh",
        "colab_type": "code",
        "outputId": "18b49e73-5672-4b41-ba70-0ae4daf3df96",
        "colab": {
          "base_uri": "https://localhost:8080/",
          "height": 35
        }
      },
      "source": [
        "!export JAVA_HOME=$(/usr/lib/jvm/java-8-openjdk-amd64 -v 1.8)"
      ],
      "execution_count": 12,
      "outputs": [
        {
          "output_type": "stream",
          "text": [
            "/bin/bash: /usr/lib/jvm/java-8-openjdk-amd64: Is a directory\n"
          ],
          "name": "stdout"
        }
      ]
    },
    {
      "cell_type": "code",
      "metadata": {
        "id": "gJOCXUr9OvHe",
        "colab_type": "code",
        "outputId": "8087827b-c06c-446b-8986-f34441573765",
        "colab": {
          "base_uri": "https://localhost:8080/",
          "height": 35
        }
      },
      "source": [
        "! echo $JAVA_HOME"
      ],
      "execution_count": 13,
      "outputs": [
        {
          "output_type": "stream",
          "text": [
            "/usr/lib/jvm/java-8-openjdk-amd64\n"
          ],
          "name": "stdout"
        }
      ]
    },
    {
      "cell_type": "code",
      "metadata": {
        "id": "Sr0reMzvOvKk",
        "colab_type": "code",
        "colab": {}
      },
      "source": [
        "import os\n",
        "os.environ[\"JAVA_HOME\"] = \"/usr/lib/jvm/java-8-openjdk-amd64\"\n",
        "os.environ[\"SPARK_HOME\"] = \"/content/spark-2.4.5-bin-hadoop2.7\"\n",
        "import findspark\n",
        "findspark.init(\"spark-2.4.5-bin-hadoop2.7\")# SPARK_HOME\n",
        "\n",
        "from pyspark.sql import SparkSession\n",
        "spark = SparkSession.builder.master(\"local[*]\").getOrCreate()"
      ],
      "execution_count": 0,
      "outputs": []
    },
    {
      "cell_type": "code",
      "metadata": {
        "id": "9Dp1eImUOvNL",
        "colab_type": "code",
        "outputId": "3d0d4824-4fd5-4070-e9a6-78794953dd83",
        "colab": {
          "base_uri": "https://localhost:8080/",
          "height": 35
        }
      },
      "source": [
        "spark.version"
      ],
      "execution_count": 15,
      "outputs": [
        {
          "output_type": "execute_result",
          "data": {
            "text/plain": [
              "'2.4.5'"
            ]
          },
          "metadata": {
            "tags": []
          },
          "execution_count": 15
        }
      ]
    },
    {
      "cell_type": "code",
      "metadata": {
        "id": "unUopb0KOvPt",
        "colab_type": "code",
        "colab": {}
      },
      "source": [
        "import os\n",
        "os.environ[\"JAVA_HOME\"] = \"/usr/lib/jvm/java-8-openjdk-amd64\""
      ],
      "execution_count": 0,
      "outputs": []
    },
    {
      "cell_type": "markdown",
      "metadata": {
        "id": "Gm1pOwusO8h4",
        "colab_type": "text"
      },
      "source": [
        "## *. Read data from local machine"
      ]
    },
    {
      "cell_type": "code",
      "metadata": {
        "id": "7nk3sPYxOvSW",
        "colab_type": "code",
        "outputId": "c0f8245d-6ae3-43c7-a1e0-85965a31095d",
        "colab": {
          "resources": {
            "http://localhost:8080/nbextensions/google.colab/files.js": {
              "data": "Ly8gQ29weXJpZ2h0IDIwMTcgR29vZ2xlIExMQwovLwovLyBMaWNlbnNlZCB1bmRlciB0aGUgQXBhY2hlIExpY2Vuc2UsIFZlcnNpb24gMi4wICh0aGUgIkxpY2Vuc2UiKTsKLy8geW91IG1heSBub3QgdXNlIHRoaXMgZmlsZSBleGNlcHQgaW4gY29tcGxpYW5jZSB3aXRoIHRoZSBMaWNlbnNlLgovLyBZb3UgbWF5IG9idGFpbiBhIGNvcHkgb2YgdGhlIExpY2Vuc2UgYXQKLy8KLy8gICAgICBodHRwOi8vd3d3LmFwYWNoZS5vcmcvbGljZW5zZXMvTElDRU5TRS0yLjAKLy8KLy8gVW5sZXNzIHJlcXVpcmVkIGJ5IGFwcGxpY2FibGUgbGF3IG9yIGFncmVlZCB0byBpbiB3cml0aW5nLCBzb2Z0d2FyZQovLyBkaXN0cmlidXRlZCB1bmRlciB0aGUgTGljZW5zZSBpcyBkaXN0cmlidXRlZCBvbiBhbiAiQVMgSVMiIEJBU0lTLAovLyBXSVRIT1VUIFdBUlJBTlRJRVMgT1IgQ09ORElUSU9OUyBPRiBBTlkgS0lORCwgZWl0aGVyIGV4cHJlc3Mgb3IgaW1wbGllZC4KLy8gU2VlIHRoZSBMaWNlbnNlIGZvciB0aGUgc3BlY2lmaWMgbGFuZ3VhZ2UgZ292ZXJuaW5nIHBlcm1pc3Npb25zIGFuZAovLyBsaW1pdGF0aW9ucyB1bmRlciB0aGUgTGljZW5zZS4KCi8qKgogKiBAZmlsZW92ZXJ2aWV3IEhlbHBlcnMgZm9yIGdvb2dsZS5jb2xhYiBQeXRob24gbW9kdWxlLgogKi8KKGZ1bmN0aW9uKHNjb3BlKSB7CmZ1bmN0aW9uIHNwYW4odGV4dCwgc3R5bGVBdHRyaWJ1dGVzID0ge30pIHsKICBjb25zdCBlbGVtZW50ID0gZG9jdW1lbnQuY3JlYXRlRWxlbWVudCgnc3BhbicpOwogIGVsZW1lbnQudGV4dENvbnRlbnQgPSB0ZXh0OwogIGZvciAoY29uc3Qga2V5IG9mIE9iamVjdC5rZXlzKHN0eWxlQXR0cmlidXRlcykpIHsKICAgIGVsZW1lbnQuc3R5bGVba2V5XSA9IHN0eWxlQXR0cmlidXRlc1trZXldOwogIH0KICByZXR1cm4gZWxlbWVudDsKfQoKLy8gTWF4IG51bWJlciBvZiBieXRlcyB3aGljaCB3aWxsIGJlIHVwbG9hZGVkIGF0IGEgdGltZS4KY29uc3QgTUFYX1BBWUxPQURfU0laRSA9IDEwMCAqIDEwMjQ7Ci8vIE1heCBhbW91bnQgb2YgdGltZSB0byBibG9jayB3YWl0aW5nIGZvciB0aGUgdXNlci4KY29uc3QgRklMRV9DSEFOR0VfVElNRU9VVF9NUyA9IDMwICogMTAwMDsKCmZ1bmN0aW9uIF91cGxvYWRGaWxlcyhpbnB1dElkLCBvdXRwdXRJZCkgewogIGNvbnN0IHN0ZXBzID0gdXBsb2FkRmlsZXNTdGVwKGlucHV0SWQsIG91dHB1dElkKTsKICBjb25zdCBvdXRwdXRFbGVtZW50ID0gZG9jdW1lbnQuZ2V0RWxlbWVudEJ5SWQob3V0cHV0SWQpOwogIC8vIENhY2hlIHN0ZXBzIG9uIHRoZSBvdXRwdXRFbGVtZW50IHRvIG1ha2UgaXQgYXZhaWxhYmxlIGZvciB0aGUgbmV4dCBjYWxsCiAgLy8gdG8gdXBsb2FkRmlsZXNDb250aW51ZSBmcm9tIFB5dGhvbi4KICBvdXRwdXRFbGVtZW50LnN0ZXBzID0gc3RlcHM7CgogIHJldHVybiBfdXBsb2FkRmlsZXNDb250aW51ZShvdXRwdXRJZCk7Cn0KCi8vIFRoaXMgaXMgcm91Z2hseSBhbiBhc3luYyBnZW5lcmF0b3IgKG5vdCBzdXBwb3J0ZWQgaW4gdGhlIGJyb3dzZXIgeWV0KSwKLy8gd2hlcmUgdGhlcmUgYXJlIG11bHRpcGxlIGFzeW5jaHJvbm91cyBzdGVwcyBhbmQgdGhlIFB5dGhvbiBzaWRlIGlzIGdvaW5nCi8vIHRvIHBvbGwgZm9yIGNvbXBsZXRpb24gb2YgZWFjaCBzdGVwLgovLyBUaGlzIHVzZXMgYSBQcm9taXNlIHRvIGJsb2NrIHRoZSBweXRob24gc2lkZSBvbiBjb21wbGV0aW9uIG9mIGVhY2ggc3RlcCwKLy8gdGhlbiBwYXNzZXMgdGhlIHJlc3VsdCBvZiB0aGUgcHJldmlvdXMgc3RlcCBhcyB0aGUgaW5wdXQgdG8gdGhlIG5leHQgc3RlcC4KZnVuY3Rpb24gX3VwbG9hZEZpbGVzQ29udGludWUob3V0cHV0SWQpIHsKICBjb25zdCBvdXRwdXRFbGVtZW50ID0gZG9jdW1lbnQuZ2V0RWxlbWVudEJ5SWQob3V0cHV0SWQpOwogIGNvbnN0IHN0ZXBzID0gb3V0cHV0RWxlbWVudC5zdGVwczsKCiAgY29uc3QgbmV4dCA9IHN0ZXBzLm5leHQob3V0cHV0RWxlbWVudC5sYXN0UHJvbWlzZVZhbHVlKTsKICByZXR1cm4gUHJvbWlzZS5yZXNvbHZlKG5leHQudmFsdWUucHJvbWlzZSkudGhlbigodmFsdWUpID0+IHsKICAgIC8vIENhY2hlIHRoZSBsYXN0IHByb21pc2UgdmFsdWUgdG8gbWFrZSBpdCBhdmFpbGFibGUgdG8gdGhlIG5leHQKICAgIC8vIHN0ZXAgb2YgdGhlIGdlbmVyYXRvci4KICAgIG91dHB1dEVsZW1lbnQubGFzdFByb21pc2VWYWx1ZSA9IHZhbHVlOwogICAgcmV0dXJuIG5leHQudmFsdWUucmVzcG9uc2U7CiAgfSk7Cn0KCi8qKgogKiBHZW5lcmF0b3IgZnVuY3Rpb24gd2hpY2ggaXMgY2FsbGVkIGJldHdlZW4gZWFjaCBhc3luYyBzdGVwIG9mIHRoZSB1cGxvYWQKICogcHJvY2Vzcy4KICogQHBhcmFtIHtzdHJpbmd9IGlucHV0SWQgRWxlbWVudCBJRCBvZiB0aGUgaW5wdXQgZmlsZSBwaWNrZXIgZWxlbWVudC4KICogQHBhcmFtIHtzdHJpbmd9IG91dHB1dElkIEVsZW1lbnQgSUQgb2YgdGhlIG91dHB1dCBkaXNwbGF5LgogKiBAcmV0dXJuIHshSXRlcmFibGU8IU9iamVjdD59IEl0ZXJhYmxlIG9mIG5leHQgc3RlcHMuCiAqLwpmdW5jdGlvbiogdXBsb2FkRmlsZXNTdGVwKGlucHV0SWQsIG91dHB1dElkKSB7CiAgY29uc3QgaW5wdXRFbGVtZW50ID0gZG9jdW1lbnQuZ2V0RWxlbWVudEJ5SWQoaW5wdXRJZCk7CiAgaW5wdXRFbGVtZW50LmRpc2FibGVkID0gZmFsc2U7CgogIGNvbnN0IG91dHB1dEVsZW1lbnQgPSBkb2N1bWVudC5nZXRFbGVtZW50QnlJZChvdXRwdXRJZCk7CiAgb3V0cHV0RWxlbWVudC5pbm5lckhUTUwgPSAnJzsKCiAgY29uc3QgcGlja2VkUHJvbWlzZSA9IG5ldyBQcm9taXNlKChyZXNvbHZlKSA9PiB7CiAgICBpbnB1dEVsZW1lbnQuYWRkRXZlbnRMaXN0ZW5lcignY2hhbmdlJywgKGUpID0+IHsKICAgICAgcmVzb2x2ZShlLnRhcmdldC5maWxlcyk7CiAgICB9KTsKICB9KTsKCiAgY29uc3QgY2FuY2VsID0gZG9jdW1lbnQuY3JlYXRlRWxlbWVudCgnYnV0dG9uJyk7CiAgaW5wdXRFbGVtZW50LnBhcmVudEVsZW1lbnQuYXBwZW5kQ2hpbGQoY2FuY2VsKTsKICBjYW5jZWwudGV4dENvbnRlbnQgPSAnQ2FuY2VsIHVwbG9hZCc7CiAgY29uc3QgY2FuY2VsUHJvbWlzZSA9IG5ldyBQcm9taXNlKChyZXNvbHZlKSA9PiB7CiAgICBjYW5jZWwub25jbGljayA9ICgpID0+IHsKICAgICAgcmVzb2x2ZShudWxsKTsKICAgIH07CiAgfSk7CgogIC8vIENhbmNlbCB1cGxvYWQgaWYgdXNlciBoYXNuJ3QgcGlja2VkIGFueXRoaW5nIGluIHRpbWVvdXQuCiAgY29uc3QgdGltZW91dFByb21pc2UgPSBuZXcgUHJvbWlzZSgocmVzb2x2ZSkgPT4gewogICAgc2V0VGltZW91dCgoKSA9PiB7CiAgICAgIHJlc29sdmUobnVsbCk7CiAgICB9LCBGSUxFX0NIQU5HRV9USU1FT1VUX01TKTsKICB9KTsKCiAgLy8gV2FpdCBmb3IgdGhlIHVzZXIgdG8gcGljayB0aGUgZmlsZXMuCiAgY29uc3QgZmlsZXMgPSB5aWVsZCB7CiAgICBwcm9taXNlOiBQcm9taXNlLnJhY2UoW3BpY2tlZFByb21pc2UsIHRpbWVvdXRQcm9taXNlLCBjYW5jZWxQcm9taXNlXSksCiAgICByZXNwb25zZTogewogICAgICBhY3Rpb246ICdzdGFydGluZycsCiAgICB9CiAgfTsKCiAgaWYgKCFmaWxlcykgewogICAgcmV0dXJuIHsKICAgICAgcmVzcG9uc2U6IHsKICAgICAgICBhY3Rpb246ICdjb21wbGV0ZScsCiAgICAgIH0KICAgIH07CiAgfQoKICBjYW5jZWwucmVtb3ZlKCk7CgogIC8vIERpc2FibGUgdGhlIGlucHV0IGVsZW1lbnQgc2luY2UgZnVydGhlciBwaWNrcyBhcmUgbm90IGFsbG93ZWQuCiAgaW5wdXRFbGVtZW50LmRpc2FibGVkID0gdHJ1ZTsKCiAgZm9yIChjb25zdCBmaWxlIG9mIGZpbGVzKSB7CiAgICBjb25zdCBsaSA9IGRvY3VtZW50LmNyZWF0ZUVsZW1lbnQoJ2xpJyk7CiAgICBsaS5hcHBlbmQoc3BhbihmaWxlLm5hbWUsIHtmb250V2VpZ2h0OiAnYm9sZCd9KSk7CiAgICBsaS5hcHBlbmQoc3BhbigKICAgICAgICBgKCR7ZmlsZS50eXBlIHx8ICduL2EnfSkgLSAke2ZpbGUuc2l6ZX0gYnl0ZXMsIGAgKwogICAgICAgIGBsYXN0IG1vZGlmaWVkOiAkewogICAgICAgICAgICBmaWxlLmxhc3RNb2RpZmllZERhdGUgPyBmaWxlLmxhc3RNb2RpZmllZERhdGUudG9Mb2NhbGVEYXRlU3RyaW5nKCkgOgogICAgICAgICAgICAgICAgICAgICAgICAgICAgICAgICAgICAnbi9hJ30gLSBgKSk7CiAgICBjb25zdCBwZXJjZW50ID0gc3BhbignMCUgZG9uZScpOwogICAgbGkuYXBwZW5kQ2hpbGQocGVyY2VudCk7CgogICAgb3V0cHV0RWxlbWVudC5hcHBlbmRDaGlsZChsaSk7CgogICAgY29uc3QgZmlsZURhdGFQcm9taXNlID0gbmV3IFByb21pc2UoKHJlc29sdmUpID0+IHsKICAgICAgY29uc3QgcmVhZGVyID0gbmV3IEZpbGVSZWFkZXIoKTsKICAgICAgcmVhZGVyLm9ubG9hZCA9IChlKSA9PiB7CiAgICAgICAgcmVzb2x2ZShlLnRhcmdldC5yZXN1bHQpOwogICAgICB9OwogICAgICByZWFkZXIucmVhZEFzQXJyYXlCdWZmZXIoZmlsZSk7CiAgICB9KTsKICAgIC8vIFdhaXQgZm9yIHRoZSBkYXRhIHRvIGJlIHJlYWR5LgogICAgbGV0IGZpbGVEYXRhID0geWllbGQgewogICAgICBwcm9taXNlOiBmaWxlRGF0YVByb21pc2UsCiAgICAgIHJlc3BvbnNlOiB7CiAgICAgICAgYWN0aW9uOiAnY29udGludWUnLAogICAgICB9CiAgICB9OwoKICAgIC8vIFVzZSBhIGNodW5rZWQgc2VuZGluZyB0byBhdm9pZCBtZXNzYWdlIHNpemUgbGltaXRzLiBTZWUgYi82MjExNTY2MC4KICAgIGxldCBwb3NpdGlvbiA9IDA7CiAgICB3aGlsZSAocG9zaXRpb24gPCBmaWxlRGF0YS5ieXRlTGVuZ3RoKSB7CiAgICAgIGNvbnN0IGxlbmd0aCA9IE1hdGgubWluKGZpbGVEYXRhLmJ5dGVMZW5ndGggLSBwb3NpdGlvbiwgTUFYX1BBWUxPQURfU0laRSk7CiAgICAgIGNvbnN0IGNodW5rID0gbmV3IFVpbnQ4QXJyYXkoZmlsZURhdGEsIHBvc2l0aW9uLCBsZW5ndGgpOwogICAgICBwb3NpdGlvbiArPSBsZW5ndGg7CgogICAgICBjb25zdCBiYXNlNjQgPSBidG9hKFN0cmluZy5mcm9tQ2hhckNvZGUuYXBwbHkobnVsbCwgY2h1bmspKTsKICAgICAgeWllbGQgewogICAgICAgIHJlc3BvbnNlOiB7CiAgICAgICAgICBhY3Rpb246ICdhcHBlbmQnLAogICAgICAgICAgZmlsZTogZmlsZS5uYW1lLAogICAgICAgICAgZGF0YTogYmFzZTY0LAogICAgICAgIH0sCiAgICAgIH07CiAgICAgIHBlcmNlbnQudGV4dENvbnRlbnQgPQogICAgICAgICAgYCR7TWF0aC5yb3VuZCgocG9zaXRpb24gLyBmaWxlRGF0YS5ieXRlTGVuZ3RoKSAqIDEwMCl9JSBkb25lYDsKICAgIH0KICB9CgogIC8vIEFsbCBkb25lLgogIHlpZWxkIHsKICAgIHJlc3BvbnNlOiB7CiAgICAgIGFjdGlvbjogJ2NvbXBsZXRlJywKICAgIH0KICB9Owp9CgpzY29wZS5nb29nbGUgPSBzY29wZS5nb29nbGUgfHwge307CnNjb3BlLmdvb2dsZS5jb2xhYiA9IHNjb3BlLmdvb2dsZS5jb2xhYiB8fCB7fTsKc2NvcGUuZ29vZ2xlLmNvbGFiLl9maWxlcyA9IHsKICBfdXBsb2FkRmlsZXMsCiAgX3VwbG9hZEZpbGVzQ29udGludWUsCn07Cn0pKHNlbGYpOwo=",
              "ok": true,
              "headers": [
                [
                  "content-type",
                  "application/javascript"
                ]
              ],
              "status": 200,
              "status_text": ""
            }
          },
          "base_uri": "https://localhost:8080/",
          "height": 420
        }
      },
      "source": [
        "from google.colab import files\n",
        "\n",
        "uploaded = files.upload()\n",
        "\n",
        "for fn in uploaded.keys():\n",
        "  print('User uploaded file \"{name}\" with length {length} bytes'.format(\n",
        "      name=fn, length=len(uploaded[fn])))"
      ],
      "execution_count": 17,
      "outputs": [
        {
          "output_type": "display_data",
          "data": {
            "text/html": [
              "\n",
              "     <input type=\"file\" id=\"files-1a23c716-6489-47e4-a6de-742e3abb0684\" name=\"files[]\" multiple disabled />\n",
              "     <output id=\"result-1a23c716-6489-47e4-a6de-742e3abb0684\">\n",
              "      Upload widget is only available when the cell has been executed in the\n",
              "      current browser session. Please rerun this cell to enable.\n",
              "      </output>\n",
              "      <script src=\"/nbextensions/google.colab/files.js\"></script> "
            ],
            "text/plain": [
              "<IPython.core.display.HTML object>"
            ]
          },
          "metadata": {
            "tags": []
          }
        },
        {
          "output_type": "error",
          "ename": "KeyboardInterrupt",
          "evalue": "ignored",
          "traceback": [
            "\u001b[0;31m---------------------------------------------------------------------------\u001b[0m",
            "\u001b[0;31mKeyboardInterrupt\u001b[0m                         Traceback (most recent call last)",
            "\u001b[0;32m<ipython-input-17-292f82be1b7a>\u001b[0m in \u001b[0;36m<module>\u001b[0;34m()\u001b[0m\n\u001b[1;32m      1\u001b[0m \u001b[0;32mfrom\u001b[0m \u001b[0mgoogle\u001b[0m\u001b[0;34m.\u001b[0m\u001b[0mcolab\u001b[0m \u001b[0;32mimport\u001b[0m \u001b[0mfiles\u001b[0m\u001b[0;34m\u001b[0m\u001b[0;34m\u001b[0m\u001b[0m\n\u001b[1;32m      2\u001b[0m \u001b[0;34m\u001b[0m\u001b[0m\n\u001b[0;32m----> 3\u001b[0;31m \u001b[0muploaded\u001b[0m \u001b[0;34m=\u001b[0m \u001b[0mfiles\u001b[0m\u001b[0;34m.\u001b[0m\u001b[0mupload\u001b[0m\u001b[0;34m(\u001b[0m\u001b[0;34m)\u001b[0m\u001b[0;34m\u001b[0m\u001b[0;34m\u001b[0m\u001b[0m\n\u001b[0m\u001b[1;32m      4\u001b[0m \u001b[0;34m\u001b[0m\u001b[0m\n\u001b[1;32m      5\u001b[0m \u001b[0;32mfor\u001b[0m \u001b[0mfn\u001b[0m \u001b[0;32min\u001b[0m \u001b[0muploaded\u001b[0m\u001b[0;34m.\u001b[0m\u001b[0mkeys\u001b[0m\u001b[0;34m(\u001b[0m\u001b[0;34m)\u001b[0m\u001b[0;34m:\u001b[0m\u001b[0;34m\u001b[0m\u001b[0;34m\u001b[0m\u001b[0m\n",
            "\u001b[0;32m/usr/local/lib/python3.6/dist-packages/google/colab/files.py\u001b[0m in \u001b[0;36mupload\u001b[0;34m()\u001b[0m\n\u001b[1;32m     62\u001b[0m   result = _output.eval_js(\n\u001b[1;32m     63\u001b[0m       'google.colab._files._uploadFiles(\"{input_id}\", \"{output_id}\")'.format(\n\u001b[0;32m---> 64\u001b[0;31m           input_id=input_id, output_id=output_id))\n\u001b[0m\u001b[1;32m     65\u001b[0m   \u001b[0mfiles\u001b[0m \u001b[0;34m=\u001b[0m \u001b[0m_collections\u001b[0m\u001b[0;34m.\u001b[0m\u001b[0mdefaultdict\u001b[0m\u001b[0;34m(\u001b[0m\u001b[0m_six\u001b[0m\u001b[0;34m.\u001b[0m\u001b[0mbinary_type\u001b[0m\u001b[0;34m)\u001b[0m\u001b[0;34m\u001b[0m\u001b[0;34m\u001b[0m\u001b[0m\n\u001b[1;32m     66\u001b[0m   \u001b[0;31m# Mapping from original filename to filename as saved locally.\u001b[0m\u001b[0;34m\u001b[0m\u001b[0;34m\u001b[0m\u001b[0;34m\u001b[0m\u001b[0m\n",
            "\u001b[0;32m/usr/local/lib/python3.6/dist-packages/google/colab/output/_js.py\u001b[0m in \u001b[0;36meval_js\u001b[0;34m(script, ignore_result)\u001b[0m\n\u001b[1;32m     37\u001b[0m   \u001b[0;32mif\u001b[0m \u001b[0mignore_result\u001b[0m\u001b[0;34m:\u001b[0m\u001b[0;34m\u001b[0m\u001b[0;34m\u001b[0m\u001b[0m\n\u001b[1;32m     38\u001b[0m     \u001b[0;32mreturn\u001b[0m\u001b[0;34m\u001b[0m\u001b[0;34m\u001b[0m\u001b[0m\n\u001b[0;32m---> 39\u001b[0;31m   \u001b[0;32mreturn\u001b[0m \u001b[0m_message\u001b[0m\u001b[0;34m.\u001b[0m\u001b[0mread_reply_from_input\u001b[0m\u001b[0;34m(\u001b[0m\u001b[0mrequest_id\u001b[0m\u001b[0;34m)\u001b[0m\u001b[0;34m\u001b[0m\u001b[0;34m\u001b[0m\u001b[0m\n\u001b[0m\u001b[1;32m     40\u001b[0m \u001b[0;34m\u001b[0m\u001b[0m\n\u001b[1;32m     41\u001b[0m \u001b[0;34m\u001b[0m\u001b[0m\n",
            "\u001b[0;32m/usr/local/lib/python3.6/dist-packages/google/colab/_message.py\u001b[0m in \u001b[0;36mread_reply_from_input\u001b[0;34m(message_id, timeout_sec)\u001b[0m\n\u001b[1;32m     99\u001b[0m     \u001b[0mreply\u001b[0m \u001b[0;34m=\u001b[0m \u001b[0m_read_next_input_message\u001b[0m\u001b[0;34m(\u001b[0m\u001b[0;34m)\u001b[0m\u001b[0;34m\u001b[0m\u001b[0;34m\u001b[0m\u001b[0m\n\u001b[1;32m    100\u001b[0m     \u001b[0;32mif\u001b[0m \u001b[0mreply\u001b[0m \u001b[0;34m==\u001b[0m \u001b[0m_NOT_READY\u001b[0m \u001b[0;32mor\u001b[0m \u001b[0;32mnot\u001b[0m \u001b[0misinstance\u001b[0m\u001b[0;34m(\u001b[0m\u001b[0mreply\u001b[0m\u001b[0;34m,\u001b[0m \u001b[0mdict\u001b[0m\u001b[0;34m)\u001b[0m\u001b[0;34m:\u001b[0m\u001b[0;34m\u001b[0m\u001b[0;34m\u001b[0m\u001b[0m\n\u001b[0;32m--> 101\u001b[0;31m       \u001b[0mtime\u001b[0m\u001b[0;34m.\u001b[0m\u001b[0msleep\u001b[0m\u001b[0;34m(\u001b[0m\u001b[0;36m0.025\u001b[0m\u001b[0;34m)\u001b[0m\u001b[0;34m\u001b[0m\u001b[0;34m\u001b[0m\u001b[0m\n\u001b[0m\u001b[1;32m    102\u001b[0m       \u001b[0;32mcontinue\u001b[0m\u001b[0;34m\u001b[0m\u001b[0;34m\u001b[0m\u001b[0m\n\u001b[1;32m    103\u001b[0m     if (reply.get('type') == 'colab_reply' and\n",
            "\u001b[0;31mKeyboardInterrupt\u001b[0m: "
          ]
        }
      ]
    },
    {
      "cell_type": "code",
      "metadata": {
        "id": "wjPYdhP2OvU8",
        "colab_type": "code",
        "outputId": "ebc93165-aa9b-4c21-c157-936b120b809c",
        "colab": {
          "base_uri": "https://localhost:8080/",
          "height": 69
        }
      },
      "source": [
        "!ls"
      ],
      "execution_count": 18,
      "outputs": [
        {
          "output_type": "stream",
          "text": [
            "filtered_train.csv\t   spark-2.4.5-bin-hadoop2.7.tgz\n",
            "sample_data\t\t   spark-2.4.5-bin-hadoop2.7.tgz.1\n",
            "spark-2.4.5-bin-hadoop2.7\n"
          ],
          "name": "stdout"
        }
      ]
    },
    {
      "cell_type": "code",
      "metadata": {
        "id": "anUNExcfPJRp",
        "colab_type": "code",
        "outputId": "f3a5b994-5b93-46fd-df4e-91c1c13c6719",
        "colab": {
          "base_uri": "https://localhost:8080/",
          "height": 121
        }
      },
      "source": [
        "import os \n",
        "os.listdir('./sample_data')"
      ],
      "execution_count": 19,
      "outputs": [
        {
          "output_type": "execute_result",
          "data": {
            "text/plain": [
              "['anscombe.json',\n",
              " 'README.md',\n",
              " 'mnist_test.csv',\n",
              " 'california_housing_train.csv',\n",
              " 'mnist_train_small.csv',\n",
              " 'california_housing_test.csv']"
            ]
          },
          "metadata": {
            "tags": []
          },
          "execution_count": 19
        }
      ]
    },
    {
      "cell_type": "markdown",
      "metadata": {
        "id": "P-JA9NOBPUTg",
        "colab_type": "text"
      },
      "source": [
        "##1. EDA"
      ]
    },
    {
      "cell_type": "code",
      "metadata": {
        "id": "L9VlimCyPJUt",
        "colab_type": "code",
        "colab": {}
      },
      "source": [
        "impression = spark.read.csv(\"filtered_train.csv\", inferSchema=True, header=True )"
      ],
      "execution_count": 0,
      "outputs": []
    },
    {
      "cell_type": "code",
      "metadata": {
        "id": "csu73D7XWEYl",
        "colab_type": "code",
        "outputId": "2083d479-4f5a-465e-9018-3bfb37f10c3a",
        "colab": {
          "base_uri": "https://localhost:8080/",
          "height": 484
        }
      },
      "source": [
        "impression.printSchema()"
      ],
      "execution_count": 22,
      "outputs": [
        {
          "output_type": "stream",
          "text": [
            "root\n",
            " |-- _c0: integer (nullable = true)\n",
            " |-- id: double (nullable = true)\n",
            " |-- click: integer (nullable = true)\n",
            " |-- hour: integer (nullable = true)\n",
            " |-- C1: integer (nullable = true)\n",
            " |-- banner_pos: integer (nullable = true)\n",
            " |-- site_id: string (nullable = true)\n",
            " |-- site_domain: string (nullable = true)\n",
            " |-- site_category: string (nullable = true)\n",
            " |-- app_id: string (nullable = true)\n",
            " |-- app_domain: string (nullable = true)\n",
            " |-- app_category: string (nullable = true)\n",
            " |-- device_id: string (nullable = true)\n",
            " |-- device_ip: string (nullable = true)\n",
            " |-- device_model: string (nullable = true)\n",
            " |-- device_type: integer (nullable = true)\n",
            " |-- device_conn_type: integer (nullable = true)\n",
            " |-- C14: integer (nullable = true)\n",
            " |-- C15: integer (nullable = true)\n",
            " |-- C16: integer (nullable = true)\n",
            " |-- C17: integer (nullable = true)\n",
            " |-- C18: integer (nullable = true)\n",
            " |-- C19: integer (nullable = true)\n",
            " |-- C20: integer (nullable = true)\n",
            " |-- C21: integer (nullable = true)\n",
            "\n"
          ],
          "name": "stdout"
        }
      ]
    },
    {
      "cell_type": "code",
      "metadata": {
        "id": "7jFXTJupWLpZ",
        "colab_type": "code",
        "outputId": "2224d274-2070-457d-e021-fa5cf16d9e79",
        "colab": {
          "base_uri": "https://localhost:8080/",
          "height": 486
        }
      },
      "source": [
        "impression.show()"
      ],
      "execution_count": 23,
      "outputs": [
        {
          "output_type": "stream",
          "text": [
            "+------+--------------------+-----+--------+----+----------+--------+-----------+-------------+--------+----------+------------+---------+---------+------------+-----------+----------------+-----+---+---+----+---+----+------+---+\n",
            "|   _c0|                  id|click|    hour|  C1|banner_pos| site_id|site_domain|site_category|  app_id|app_domain|app_category|device_id|device_ip|device_model|device_type|device_conn_type|  C14|C15|C16| C17|C18| C19|   C20|C21|\n",
            "+------+--------------------+-----+--------+----+----------+--------+-----------+-------------+--------+----------+------------+---------+---------+------------+-----------+----------------+-----+---+---+----+---+----+------+---+\n",
            "|128037|1.107450855228460...|    0|14102101|1005|         1|e151e245|   7e091613|     f028772b|ecad2386|  7801e8d9|    07d7df22| a99f214a| 10dcdfb1|    88fe1d5d|          1|               0|20352|320| 50|2333|  0|  39|    -1|157|\n",
            "|491755|1.240012241576984...|    0|14102103|1005|         0|1fbe01fe|   f3845767|     28905ebd|ecad2386|  7801e8d9|    07d7df22| a99f214a| 9f351a94|    3db9fde9|          1|               0|15701|320| 50|1722|  0|  35|100084| 79|\n",
            "|470924|1.059801103166430...|    0|14102103|1005|         1|d9750ee7|   98572c79|     f028772b|ecad2386|  7801e8d9|    07d7df22| a99f214a| 158aae2e|    c144e605|          1|               0|17614|320| 50|1993|  2|1063|    -1| 33|\n",
            "|791624|1.844218567631500...|    0|14102104|1005|         1|856e6d3f|   58a89a43|     f028772b|ecad2386|  7801e8d9|    07d7df22| a99f214a| 87f758ac|    0eb711ec|          1|               0|16208|320| 50|1800|  3| 167|100075| 23|\n",
            "|491263|1.236015917707253...|    1|14102103|1005|         1|d9750ee7|   98572c79|     f028772b|ecad2386|  7801e8d9|    07d7df22| a99f214a| d55aa41c|    3bd9e8e7|          1|               0|17614|320| 50|1993|  2|1063|    -1| 33|\n",
            "|836489|4.660073164598010...|    0|14102104|1005|         1|5b4d2eda|   16a36ef3|     f028772b|ecad2386|  7801e8d9|    07d7df22| a99f214a| 89c29584|    38c63a3a|          1|               0|16071|320| 50|1784|  2| 175|100075| 95|\n",
            "|371403|2.599877704741118E18|    0|14102102|1005|         0|543a539e|   c7ca3108|     3e814130|ecad2386|  7801e8d9|    07d7df22| a99f214a| f08ee487|    d787e91b|          1|               0|21647|320| 50|2487|  1| 547|    -1| 51|\n",
            "| 73349|3.599077706160745...|    0|14102100|1005|         0|85f751fd|   c4e18dd6|     50e219e0|f4510c5e|  b9528b13|    cef3e649| a99f214a| 0cdd7171|    cd5b1559|          1|               2|18993|320| 50|2161|  0|  35|    -1|157|\n",
            "|117583|9.802098255744553E18|    1|14102100|1005|         0|1fbe01fe|   f3845767|     28905ebd|ecad2386|  7801e8d9|    07d7df22| a99f214a| 4a5779aa|    c144e605|          1|               0|15705|320| 50|1722|  0|  35|100084| 79|\n",
            "| 21440|1.296086654070850...|    0|14102100|1005|         0|1fbe01fe|   f3845767|     28905ebd|ecad2386|  7801e8d9|    07d7df22| a99f214a| b271bd3c|    04f5b394|          1|               0|15708|320| 50|1722|  0|  35|    -1| 79|\n",
            "|229520|6.760898937176044...|    1|14102101|1005|         0|7aec40a2|   f415c8a8|     f028772b|ecad2386|  7801e8d9|    07d7df22| a99f214a| ba32f88a|    01161611|          1|               0|19666|300|250|2253|  2| 303|    -1| 52|\n",
            "|413825|6.005972471693599...|    0|14102102|1005|         0|85f751fd|   c4e18dd6|     50e219e0|c3f39675|  2347f47a|    0f2161f8| a99f214a| 6236500c|    ef726eae|          1|               0|21647|320| 50|2487|  1| 547|100050| 51|\n",
            "|966604|1.270166553754704...|    0|14102105|1005|         1|16c73019|   8025317b|     28905ebd|ecad2386|  7801e8d9|    07d7df22| a99f214a| 1573fe88|    a79f14dc|          1|               0|21664|320| 50|2492|  3|  35|100199| 43|\n",
            "|925255|1.020008649882480...|    0|14102105|1002|         0|85f751fd|   c4e18dd6|     50e219e0|4e02fbd3|  7801e8d9|    07d7df22| a3a26299| bcb9ceee|    835ef536|          0|               0|21661|320| 50|2446|  3| 171|100228|156|\n",
            "|436973|7.856448054015572E18|    0|14102102|1005|         0|85f751fd|   c4e18dd6|     50e219e0|db6967ff|  2347f47a|    cef3e649| 3f9e79e3| 6c3b64fb|    68b900d9|          1|               2|18993|320| 50|2161|  0|  35|    -1|157|\n",
            "|293372|1.297785032814106...|    0|14102102|1005|         1|7dd19f44|   9690165f|     f028772b|ecad2386|  7801e8d9|    07d7df22| a99f214a| 1aa82997|    713b4db8|          1|               0|20596|320| 50|2161|  0|  35|100105|157|\n",
            "|167302|1.582951597855432...|    0|14102101|1005|         1|93de26ae|   7d05db75|     335d28a8|ecad2386|  7801e8d9|    07d7df22| a99f214a| b3ad9d9a|    be74e6fe|          1|               0|19251|320| 50|2201|  3|  35|    -1| 43|\n",
            "|513300|1.424667090775925...|    1|14102103|1005|         1|856e6d3f|   58a89a43|     f028772b|ecad2386|  7801e8d9|    07d7df22| a99f214a| b50feb8a|    f39b265e|          1|               0|19772|320| 50|2227|  0| 687|100074| 48|\n",
            "| 21758|1.300751685186345...|    0|14102100|1005|         0|543a539e|   c7ca3108|     3e814130|ecad2386|  7801e8d9|    07d7df22| a99f214a| 3cd683e2|    607e78f2|          1|               0|20366|320| 50|2333|  0|  39|    -1|157|\n",
            "|176485|1.694978375650240...|    0|14102101|1005|         0|6256f5b4|   28f93029|     f028772b|ecad2386|  7801e8d9|    07d7df22| a99f214a| c24491a6|    38fa23d7|          1|               0|19742|320| 50|2263|  3| 427|100000| 61|\n",
            "+------+--------------------+-----+--------+----+----------+--------+-----------+-------------+--------+----------+------------+---------+---------+------------+-----------+----------------+-----+---+---+----+---+----+------+---+\n",
            "only showing top 20 rows\n",
            "\n"
          ],
          "name": "stdout"
        }
      ]
    },
    {
      "cell_type": "code",
      "metadata": {
        "id": "lcd7NplhWQAZ",
        "colab_type": "code",
        "outputId": "94683c43-de6f-427c-f3b3-525f33a64cfd",
        "colab": {
          "base_uri": "https://localhost:8080/",
          "height": 35
        }
      },
      "source": [
        "print(\"impression size: \" + str(impression.count()))"
      ],
      "execution_count": 24,
      "outputs": [
        {
          "output_type": "stream",
          "text": [
            "impression size: 404290\n"
          ],
          "name": "stdout"
        }
      ]
    },
    {
      "cell_type": "code",
      "metadata": {
        "id": "ecA4n5a1W8gV",
        "colab_type": "code",
        "colab": {}
      },
      "source": [
        "# sql tempview\n",
        "impression.createOrReplaceTempView(\"impression\")"
      ],
      "execution_count": 0,
      "outputs": []
    },
    {
      "cell_type": "markdown",
      "metadata": {
        "id": "CA3SZQfu7K0F",
        "colab_type": "text"
      },
      "source": [
        "###1.1. Banner Position"
      ]
    },
    {
      "cell_type": "code",
      "metadata": {
        "id": "FxtpHqzfXcJD",
        "colab_type": "code",
        "outputId": "bd803c94-804f-4525-8e14-ac0e8d2af423",
        "colab": {
          "base_uri": "https://localhost:8080/",
          "height": 225
        }
      },
      "source": [
        "# Banner Position for SQL\n",
        "Banner_position = spark.sql('''select banner_pos, \n",
        "                               count(*) as nums \n",
        "                               from impression \n",
        "                               group by 1 \n",
        "                               order by 1''')\n",
        "Banner_position.show()"
      ],
      "execution_count": 26,
      "outputs": [
        {
          "output_type": "stream",
          "text": [
            "+----------+------+\n",
            "|banner_pos|  nums|\n",
            "+----------+------+\n",
            "|         0|291180|\n",
            "|         1|112416|\n",
            "|         2|   111|\n",
            "|         3|    20|\n",
            "|         4|    69|\n",
            "|         5|    57|\n",
            "|         7|   437|\n",
            "+----------+------+\n",
            "\n"
          ],
          "name": "stdout"
        }
      ]
    },
    {
      "cell_type": "code",
      "metadata": {
        "id": "WOofbRPYL7aX",
        "colab_type": "code",
        "colab": {}
      },
      "source": [
        "# from spark sql to Pandas Dataframe\n",
        "Banner_position_df = Banner_position.toPandas()"
      ],
      "execution_count": 0,
      "outputs": []
    },
    {
      "cell_type": "code",
      "metadata": {
        "id": "0EfWd3CfMVEM",
        "colab_type": "code",
        "colab": {
          "base_uri": "https://localhost:8080/",
          "height": 315
        },
        "outputId": "e71b6554-e95f-4adf-8e21-ba7bbd062098"
      },
      "source": [
        "import matplotlib.pyplot as plt\n",
        "\n",
        "# data visualization\n",
        "plt.figure()\n",
        "ax = Banner_position_df.plot(kind = 'bar', x = 'banner_pos', y = 'nums', logy = True, color = 'red', legend = True, align = 'center')\n",
        "ax.set_xlabel('banner_pos', fontsize = 12)\n",
        "ax.set_ylabel('nums', fontsize = 12)\n",
        "plt.xticks(fontsize=10, rotation = 0)\n",
        "plt.title('Number of records for different banner_pos')\n",
        "display()"
      ],
      "execution_count": 28,
      "outputs": [
        {
          "output_type": "display_data",
          "data": {
            "text/plain": [
              "<Figure size 432x288 with 0 Axes>"
            ]
          },
          "metadata": {
            "tags": []
          }
        },
        {
          "output_type": "display_data",
          "data": {
            "image/png": "[encoded data removed]",
            "text/plain": [
              "<Figure size 432x288 with 1 Axes>"
            ]
          },
          "metadata": {
            "tags": [],
            "needs_background": "light"
          }
        }
      ]
    },
    {
      "cell_type": "markdown",
      "metadata": {
        "id": "GkYP5wmC7tdN",
        "colab_type": "text"
      },
      "source": [
        "###1.2. click and no_click numbers by Banner Position"
      ]
    },
    {
      "cell_type": "code",
      "metadata": {
        "id": "GwICXwZvYua7",
        "colab_type": "code",
        "outputId": "b9adfcc0-503e-4ef8-d51c-fe18ae245373",
        "colab": {
          "base_uri": "https://localhost:8080/",
          "height": 225
        }
      },
      "source": [
        "click_no_click = spark.sql('''select banner_pos, \n",
        "                              sum(case when click = 1 then 1 else 0 end) as click, \n",
        "                              sum(case when click = 0 then 1 else 0 end) as no_click \n",
        "                              from impression \n",
        "                              group by 1 \n",
        "                              order by 1''')\n",
        "click_no_click.show()"
      ],
      "execution_count": 29,
      "outputs": [
        {
          "output_type": "stream",
          "text": [
            "+----------+-----+--------+\n",
            "|banner_pos|click|no_click|\n",
            "+----------+-----+--------+\n",
            "|         0|47939|  243241|\n",
            "|         1|20542|   91874|\n",
            "|         2|   12|      99|\n",
            "|         3|    5|      15|\n",
            "|         4|   12|      57|\n",
            "|         5|    6|      51|\n",
            "|         7|  139|     298|\n",
            "+----------+-----+--------+\n",
            "\n"
          ],
          "name": "stdout"
        }
      ]
    },
    {
      "cell_type": "code",
      "metadata": {
        "id": "dGS_TFpjOQGu",
        "colab_type": "code",
        "colab": {}
      },
      "source": [
        "# from spark sql to Pandas Dataframe\n",
        "click_no_click_df = click_no_click.toPandas()"
      ],
      "execution_count": 0,
      "outputs": []
    },
    {
      "cell_type": "code",
      "metadata": {
        "id": "9GCH2ZBpOWG8",
        "colab_type": "code",
        "colab": {
          "base_uri": "https://localhost:8080/",
          "height": 315
        },
        "outputId": "15f72d6d-c280-423d-bed9-4818e31ba0fe"
      },
      "source": [
        "# data visualization\n",
        "plt.figure()\n",
        "ax = click_no_click_df.plot(kind = 'bar', stacked=True)\n",
        "ax.set_xlabel('banner_pos', fontsize = 12)\n",
        "ax.set_ylabel('click_no_click', fontsize = 12)\n",
        "plt.xticks(fontsize=10, rotation = 0)\n",
        "plt.title('Number of click or no_click for different banner_pos')\n",
        "display()"
      ],
      "execution_count": 31,
      "outputs": [
        {
          "output_type": "display_data",
          "data": {
            "text/plain": [
              "<Figure size 432x288 with 0 Axes>"
            ]
          },
          "metadata": {
            "tags": []
          }
        },
        {
          "output_type": "display_data",
          "data": {
            "image/png": "[encoded data removed]",
            "text/plain": [
              "<Figure size 432x288 with 1 Axes>"
            ]
          },
          "metadata": {
            "tags": [],
            "needs_background": "light"
          }
        }
      ]
    },
    {
      "cell_type": "markdown",
      "metadata": {
        "id": "Rtxdg4aO8GyA",
        "colab_type": "text"
      },
      "source": [
        "###1.3. CTR by Banner Position"
      ]
    },
    {
      "cell_type": "code",
      "metadata": {
        "id": "Sxnw3frBZTrc",
        "colab_type": "code",
        "outputId": "9f4a51be-a9a8-4bcd-d3cc-b15b15e9fdd5",
        "colab": {
          "base_uri": "https://localhost:8080/",
          "height": 225
        }
      },
      "source": [
        "ctr_pos = spark.sql('''select banner_pos,\n",
        "                       sum(case when click = 1 then 1 else 0 end) / count(*) as ctr\n",
        "                       from impression\n",
        "                       group by 1\n",
        "                       order by 1''')\n",
        "ctr_pos.show()"
      ],
      "execution_count": 32,
      "outputs": [
        {
          "output_type": "stream",
          "text": [
            "+----------+-------------------+\n",
            "|banner_pos|                ctr|\n",
            "+----------+-------------------+\n",
            "|         0|  0.164636994299059|\n",
            "|         1|0.18273199544548818|\n",
            "|         2|0.10810810810810811|\n",
            "|         3|               0.25|\n",
            "|         4|0.17391304347826086|\n",
            "|         5|0.10526315789473684|\n",
            "|         7| 0.3180778032036613|\n",
            "+----------+-------------------+\n",
            "\n"
          ],
          "name": "stdout"
        }
      ]
    },
    {
      "cell_type": "code",
      "metadata": {
        "id": "xlmQP9JrYc0w",
        "colab_type": "code",
        "colab": {}
      },
      "source": [
        "# from spark sql to Pandas Dataframe\n",
        "ctr_pos_df = ctr_pos.toPandas()"
      ],
      "execution_count": 0,
      "outputs": []
    },
    {
      "cell_type": "code",
      "metadata": {
        "id": "Doaw4iqEYjnw",
        "colab_type": "code",
        "colab": {
          "base_uri": "https://localhost:8080/",
          "height": 315
        },
        "outputId": "78b8c481-7f67-48e7-ce26-e2dd04a5d0df"
      },
      "source": [
        "# data visualization\n",
        "plt.figure()\n",
        "ax = ctr_pos_df.plot(kind = 'bar', x = 'banner_pos', y = 'ctr', logy = True, color = 'blue', legend = True, align = 'center')\n",
        "ax.set_xlabel('banner_pos', fontsize = 12)\n",
        "ax.set_ylabel('ctr', fontsize = 12)\n",
        "plt.xticks(fontsize=10, rotation = 0)\n",
        "plt.title('Number of records for different banner_pos')\n",
        "display()"
      ],
      "execution_count": 34,
      "outputs": [
        {
          "output_type": "display_data",
          "data": {
            "text/plain": [
              "<Figure size 432x288 with 0 Axes>"
            ]
          },
          "metadata": {
            "tags": []
          }
        },
        {
          "output_type": "display_data",
          "data": {
            "image/png": "[encoded data removed]",
            "text/plain": [
              "<Figure size 432x288 with 1 Axes>"
            ]
          },
          "metadata": {
            "tags": [],
            "needs_background": "light"
          }
        }
      ]
    },
    {
      "cell_type": "markdown",
      "metadata": {
        "id": "JIzbwSKm8lap",
        "colab_type": "text"
      },
      "source": [
        "###1.4. device_type"
      ]
    },
    {
      "cell_type": "code",
      "metadata": {
        "id": "4BvzGCUtHEtk",
        "colab_type": "code",
        "outputId": "92530fcc-b223-4153-e4c3-da0d810241d4",
        "colab": {
          "base_uri": "https://localhost:8080/",
          "height": 173
        }
      },
      "source": [
        "device_type = spark.sql('''select device_type,\n",
        "                           count(*) as nums\n",
        "                           from impression\n",
        "                           group by 1\n",
        "                           order by 1''')\n",
        "device_type.show()"
      ],
      "execution_count": 35,
      "outputs": [
        {
          "output_type": "stream",
          "text": [
            "+-----------+------+\n",
            "|device_type|  nums|\n",
            "+-----------+------+\n",
            "|          0| 22063|\n",
            "|          1|373227|\n",
            "|          4|  7703|\n",
            "|          5|  1297|\n",
            "+-----------+------+\n",
            "\n"
          ],
          "name": "stdout"
        }
      ]
    },
    {
      "cell_type": "code",
      "metadata": {
        "id": "La379vpX5tzc",
        "colab_type": "code",
        "colab": {}
      },
      "source": [
        "# from spark sql to Pandas Dataframe\n",
        "device_type_df = device_type.toPandas()"
      ],
      "execution_count": 0,
      "outputs": []
    },
    {
      "cell_type": "code",
      "metadata": {
        "id": "ZjkfhaDp6Alg",
        "colab_type": "code",
        "colab": {
          "base_uri": "https://localhost:8080/",
          "height": 315
        },
        "outputId": "aa1b7822-a50f-41d1-9515-8999d7bde2aa"
      },
      "source": [
        "# data visualization\n",
        "plt.figure()\n",
        "ax = device_type_df.plot(kind = 'bar', x = 'device_type', y = 'nums', logy = True, color = 'orange', legend = True, align = 'center')\n",
        "ax.set_xlabel('device_type', fontsize = 12)\n",
        "ax.set_ylabel('nums', fontsize = 12)\n",
        "plt.xticks(fontsize=10, rotation = 0)\n",
        "plt.title('Number of records for different device_type')\n",
        "display()"
      ],
      "execution_count": 42,
      "outputs": [
        {
          "output_type": "display_data",
          "data": {
            "text/plain": [
              "<Figure size 432x288 with 0 Axes>"
            ]
          },
          "metadata": {
            "tags": []
          }
        },
        {
          "output_type": "display_data",
          "data": {
            "image/png": "[encoded data removed]",
            "text/plain": [
              "<Figure size 432x288 with 1 Axes>"
            ]
          },
          "metadata": {
            "tags": [],
            "needs_background": "light"
          }
        }
      ]
    },
    {
      "cell_type": "markdown",
      "metadata": {
        "id": "Ijrc2p608tM1",
        "colab_type": "text"
      },
      "source": [
        "###1.5. click and no_click numbers by device_type"
      ]
    },
    {
      "cell_type": "code",
      "metadata": {
        "id": "xILmevKSIO89",
        "colab_type": "code",
        "colab": {
          "base_uri": "https://localhost:8080/",
          "height": 173
        },
        "outputId": "52e928ce-c0e3-4a24-d4cc-80e265050ba5"
      },
      "source": [
        "device_type_click_no_click = spark.sql('''select device_type,\n",
        "                                          sum(case when click = 1 then 1 else 0 end) as click,\n",
        "                                          sum(case when click = 0 then 1 else 0 end) as no_click\n",
        "                                          from impression\n",
        "                                          group by 1\n",
        "                                          order by 1''')\n",
        "device_type_click_no_click.show()"
      ],
      "execution_count": 36,
      "outputs": [
        {
          "output_type": "stream",
          "text": [
            "+-----------+-----+--------+\n",
            "|device_type|click|no_click|\n",
            "+-----------+-----+--------+\n",
            "|          0| 4781|   17282|\n",
            "|          1|63033|  310194|\n",
            "|          4|  731|    6972|\n",
            "|          5|  110|    1187|\n",
            "+-----------+-----+--------+\n",
            "\n"
          ],
          "name": "stdout"
        }
      ]
    },
    {
      "cell_type": "code",
      "metadata": {
        "id": "pkjqXFpz6xOT",
        "colab_type": "code",
        "colab": {}
      },
      "source": [
        "# from spark sql to Pandas Dataframe\n",
        "device_type_click_no_click_df = device_type_click_no_click.toPandas()"
      ],
      "execution_count": 0,
      "outputs": []
    },
    {
      "cell_type": "code",
      "metadata": {
        "id": "h5Prlle064Zd",
        "colab_type": "code",
        "colab": {
          "base_uri": "https://localhost:8080/",
          "height": 315
        },
        "outputId": "6c38d448-e6c0-4c1e-86e2-b98465333013"
      },
      "source": [
        "# data visualization\n",
        "plt.figure()\n",
        "ax = device_type_click_no_click_df.plot(kind = 'bar', stacked=True)\n",
        "ax.set_xlabel('banner_pos', fontsize = 12)\n",
        "ax.set_ylabel('click_no_click', fontsize = 12)\n",
        "plt.xticks(fontsize=10, rotation = 0)\n",
        "plt.title('Number of click or no_click for different device_type')\n",
        "display()"
      ],
      "execution_count": 44,
      "outputs": [
        {
          "output_type": "display_data",
          "data": {
            "text/plain": [
              "<Figure size 432x288 with 0 Axes>"
            ]
          },
          "metadata": {
            "tags": []
          }
        },
        {
          "output_type": "display_data",
          "data": {
            "image/png": "[encoded data removed]",
            "text/plain": [
              "<Figure size 432x288 with 1 Axes>"
            ]
          },
          "metadata": {
            "tags": [],
            "needs_background": "light"
          }
        }
      ]
    },
    {
      "cell_type": "markdown",
      "metadata": {
        "id": "KoY2kHcB85UJ",
        "colab_type": "text"
      },
      "source": [
        "###1.6. CTR by device_type"
      ]
    },
    {
      "cell_type": "code",
      "metadata": {
        "id": "hqWL52t-JT80",
        "colab_type": "code",
        "colab": {
          "base_uri": "https://localhost:8080/",
          "height": 173
        },
        "outputId": "3499def7-10ef-44b4-b76a-be93884be501"
      },
      "source": [
        "ctr_device_type = spark.sql('''select device_type,\n",
        "                               sum(case when click = 1 then 1 else 0 end) / count(*) as ctr\n",
        "                               from impression\n",
        "                               group by 1\n",
        "                               order by 1''')\n",
        "ctr_device_type.show()"
      ],
      "execution_count": 37,
      "outputs": [
        {
          "output_type": "stream",
          "text": [
            "+-----------+-------------------+\n",
            "|device_type|                ctr|\n",
            "+-----------+-------------------+\n",
            "|          0|0.21669763858042876|\n",
            "|          1|0.16888649535001488|\n",
            "|          4|0.09489809165260288|\n",
            "|          5|0.08481110254433308|\n",
            "+-----------+-------------------+\n",
            "\n"
          ],
          "name": "stdout"
        }
      ]
    },
    {
      "cell_type": "code",
      "metadata": {
        "id": "9x-apfZT9AUT",
        "colab_type": "code",
        "colab": {}
      },
      "source": [
        "# from spark sql to Pandas Dataframe\n",
        "ctr_device_type_df = ctr_device_type.toPandas()"
      ],
      "execution_count": 0,
      "outputs": []
    },
    {
      "cell_type": "code",
      "metadata": {
        "id": "YaoizjIA9Gka",
        "colab_type": "code",
        "colab": {
          "base_uri": "https://localhost:8080/",
          "height": 315
        },
        "outputId": "3f5ec94a-eea4-4e59-b784-269937627f85"
      },
      "source": [
        "plt.figure()\n",
        "ax = ctr_device_type_df.plot(kind = 'line', x = 'device_type', y = 'ctr', logy = True, color = 'orange', marker= 'o', legend = True)\n",
        "ax.set_xlabel('device_type', fontsize = 12)\n",
        "ax.set_ylabel('ctr', fontsize = 12)\n",
        "plt.xticks(fontsize=10, rotation = 0)\n",
        "plt.yticks(fontsize=10, rotation = 0)\n",
        "plt.title('CTR for different device_type')\n",
        "display()"
      ],
      "execution_count": 51,
      "outputs": [
        {
          "output_type": "display_data",
          "data": {
            "text/plain": [
              "<Figure size 432x288 with 0 Axes>"
            ]
          },
          "metadata": {
            "tags": []
          }
        },
        {
          "output_type": "display_data",
          "data": {
            "image/png": "[encoded data removed]",
            "text/plain": [
              "<Figure size 432x288 with 1 Axes>"
            ]
          },
          "metadata": {
            "tags": [],
            "needs_background": "light"
          }
        }
      ]
    },
    {
      "cell_type": "markdown",
      "metadata": {
        "id": "Gni4NBf7_zHo",
        "colab_type": "text"
      },
      "source": [
        "###1.7. Site Category"
      ]
    },
    {
      "cell_type": "code",
      "metadata": {
        "id": "qlXYv-Fn_7Ik",
        "colab_type": "code",
        "colab": {
          "base_uri": "https://localhost:8080/",
          "height": 311
        },
        "outputId": "7e740a95-b4bb-41a0-ac41-bc9a2dd48fd4"
      },
      "source": [
        "site_category = spark.sql('''select site_category,\n",
        "                             count(*) as nums\n",
        "                             from impression\n",
        "                             group by 1\n",
        "                             having nums > 200\n",
        "                             order by 2 desc''')\n",
        "site_category.show()"
      ],
      "execution_count": 52,
      "outputs": [
        {
          "output_type": "stream",
          "text": [
            "+-------------+------+\n",
            "|site_category|  nums|\n",
            "+-------------+------+\n",
            "|     50e219e0|165632|\n",
            "|     f028772b|126494|\n",
            "|     28905ebd| 73611|\n",
            "|     3e814130| 30335|\n",
            "|     f66779e6|  2548|\n",
            "|     75fa27f6|  1662|\n",
            "|     335d28a8|  1339|\n",
            "|     76b2941d|  1107|\n",
            "|     c0dd3be3|   426|\n",
            "|     72722551|   287|\n",
            "|     dedf689d|   265|\n",
            "|     70fb0e29|   251|\n",
            "+-------------+------+\n",
            "\n"
          ],
          "name": "stdout"
        }
      ]
    },
    {
      "cell_type": "code",
      "metadata": {
        "id": "5MjH6kTNAvQ9",
        "colab_type": "code",
        "colab": {}
      },
      "source": [
        "# from spark sql to Pandas Dataframe\n",
        "site_category_df = site_category.toPandas()"
      ],
      "execution_count": 0,
      "outputs": []
    },
    {
      "cell_type": "code",
      "metadata": {
        "id": "-wf8_GkeA0Ly",
        "colab_type": "code",
        "colab": {
          "base_uri": "https://localhost:8080/",
          "height": 355
        },
        "outputId": "011f2222-e5a7-4a21-f817-a53251f93af9"
      },
      "source": [
        "# data visualization\n",
        "plt.figure()\n",
        "ax = site_category_df.plot(kind = 'bar', x = 'site_category', y = 'nums', logy = True, color = 'red', legend = True, align = 'center')\n",
        "ax.set_xlabel('site_category', fontsize = 12)\n",
        "ax.set_ylabel('nums', fontsize = 12)\n",
        "plt.xticks(fontsize=10, rotation = 60)\n",
        "plt.title('Number of records for different site_category')\n",
        "display()"
      ],
      "execution_count": 56,
      "outputs": [
        {
          "output_type": "display_data",
          "data": {
            "text/plain": [
              "<Figure size 432x288 with 0 Axes>"
            ]
          },
          "metadata": {
            "tags": []
          }
        },
        {
          "output_type": "display_data",
          "data": {
            "image/png": "[encoded data removed]",
            "text/plain": [
              "<Figure size 432x288 with 1 Axes>"
            ]
          },
          "metadata": {
            "tags": [],
            "needs_background": "light"
          }
        }
      ]
    },
    {
      "cell_type": "markdown",
      "metadata": {
        "id": "brHsV4OKBXyw",
        "colab_type": "text"
      },
      "source": [
        "###1.8. click and no_click numbers by different Site Category"
      ]
    },
    {
      "cell_type": "code",
      "metadata": {
        "id": "Yu_1WTqlBkpn",
        "colab_type": "code",
        "colab": {
          "base_uri": "https://localhost:8080/",
          "height": 466
        },
        "outputId": "13d38cd7-09da-45a4-9070-fc507e4d1ff6"
      },
      "source": [
        "site_category_click_no_click = spark.sql('''select site_category,\n",
        "                                            sum(case when click = 1 then 1 else 0 end) as click,\n",
        "                                            sum(case when click = 0 then 1 else 0 end) as no_click\n",
        "                                            from impression\n",
        "                                            group by 1\n",
        "                                            order by 3 desc''')\n",
        "site_category_click_no_click.show()"
      ],
      "execution_count": 58,
      "outputs": [
        {
          "output_type": "stream",
          "text": [
            "+-------------+-----+--------+\n",
            "|site_category|click|no_click|\n",
            "+-------------+-----+--------+\n",
            "|     50e219e0|21349|  144283|\n",
            "|     f028772b|22664|  103830|\n",
            "|     28905ebd|15399|   58212|\n",
            "|     3e814130| 8536|   21799|\n",
            "|     f66779e6|  118|    2430|\n",
            "|     75fa27f6|  175|    1487|\n",
            "|     335d28a8|  117|    1222|\n",
            "|     76b2941d|   23|    1084|\n",
            "|     c0dd3be3|   51|     375|\n",
            "|     72722551|   26|     261|\n",
            "|     70fb0e29|   43|     208|\n",
            "|     0569f928|    6|     155|\n",
            "|     dedf689d|  135|     130|\n",
            "|     8fd0aea4|    2|      72|\n",
            "|     42a36e14|    9|      28|\n",
            "|     a818d37a|    0|      28|\n",
            "|     bcf865d9|    0|      14|\n",
            "|     e787de0e|    0|      10|\n",
            "|     5378d028|    2|       4|\n",
            "|     c706e647|    0|       1|\n",
            "+-------------+-----+--------+\n",
            "only showing top 20 rows\n",
            "\n"
          ],
          "name": "stdout"
        }
      ]
    },
    {
      "cell_type": "code",
      "metadata": {
        "id": "qx-uBf5TCdPl",
        "colab_type": "code",
        "colab": {}
      },
      "source": [
        "# from spark sql to Pandas Dataframe\n",
        "site_category_click_no_click_df = site_category_click_no_click.toPandas()"
      ],
      "execution_count": 0,
      "outputs": []
    },
    {
      "cell_type": "code",
      "metadata": {
        "id": "lYGz3vfECmID",
        "colab_type": "code",
        "colab": {
          "base_uri": "https://localhost:8080/",
          "height": 315
        },
        "outputId": "4f05a3a0-59a6-449b-c01b-199bada7f00d"
      },
      "source": [
        "# data visualization\n",
        "plt.figure()\n",
        "ax = site_category_click_no_click_df.plot(kind = 'bar', stacked=True)\n",
        "ax.set_xlabel('site_category', fontsize = 12)\n",
        "ax.set_ylabel('click_no_click', fontsize = 12)\n",
        "plt.xticks(fontsize=10, rotation = 0)\n",
        "plt.title('Number of click or no_click for different site_category')\n",
        "display()"
      ],
      "execution_count": 60,
      "outputs": [
        {
          "output_type": "display_data",
          "data": {
            "text/plain": [
              "<Figure size 432x288 with 0 Axes>"
            ]
          },
          "metadata": {
            "tags": []
          }
        },
        {
          "output_type": "display_data",
          "data": {
            "image/png": "[encoded data removed]",
            "text/plain": [
              "<Figure size 432x288 with 1 Axes>"
            ]
          },
          "metadata": {
            "tags": [],
            "needs_background": "light"
          }
        }
      ]
    },
    {
      "cell_type": "markdown",
      "metadata": {
        "id": "ULv7nijKC79H",
        "colab_type": "text"
      },
      "source": [
        "###1.9. CTR by Site Category"
      ]
    },
    {
      "cell_type": "code",
      "metadata": {
        "id": "URg1roxxDEsq",
        "colab_type": "code",
        "colab": {
          "base_uri": "https://localhost:8080/",
          "height": 466
        },
        "outputId": "1c958cf7-b847-475d-e151-ee09433c1f8d"
      },
      "source": [
        "ctr_site_category = spark.sql('''select site_category,\n",
        "                                 sum(case when click = 1 then 1 else 0 end) / count(*) as ctr\n",
        "                                 from impression\n",
        "                                 group by 1\n",
        "                                 order by 2 desc''')\n",
        "ctr_site_category.show()"
      ],
      "execution_count": 69,
      "outputs": [
        {
          "output_type": "stream",
          "text": [
            "+-------------+--------------------+\n",
            "|site_category|                 ctr|\n",
            "+-------------+--------------------+\n",
            "|     dedf689d|  0.5094339622641509|\n",
            "|     5378d028|  0.3333333333333333|\n",
            "|     3e814130|  0.2813911323553651|\n",
            "|     42a36e14| 0.24324324324324326|\n",
            "|     28905ebd|  0.2091942780290989|\n",
            "|     f028772b| 0.17917055354404163|\n",
            "|     70fb0e29| 0.17131474103585656|\n",
            "|     50e219e0| 0.12889417503863987|\n",
            "|     c0dd3be3| 0.11971830985915492|\n",
            "|     75fa27f6| 0.10529482551143202|\n",
            "|     72722551| 0.09059233449477352|\n",
            "|     335d28a8| 0.08737864077669903|\n",
            "|     f66779e6| 0.04631083202511774|\n",
            "|     0569f928|0.037267080745341616|\n",
            "|     8fd0aea4| 0.02702702702702703|\n",
            "|     76b2941d| 0.02077687443541102|\n",
            "|     e787de0e|                 0.0|\n",
            "|     bcf865d9|                 0.0|\n",
            "|     a72a0145|                 0.0|\n",
            "|     c706e647|                 0.0|\n",
            "+-------------+--------------------+\n",
            "only showing top 20 rows\n",
            "\n"
          ],
          "name": "stdout"
        }
      ]
    },
    {
      "cell_type": "code",
      "metadata": {
        "id": "C8sFwEf4Dpm3",
        "colab_type": "code",
        "colab": {}
      },
      "source": [
        "# from spark sql to Pandas Dataframe\n",
        "ctr_site_category_df = ctr_site_category.toPandas()"
      ],
      "execution_count": 0,
      "outputs": []
    },
    {
      "cell_type": "code",
      "metadata": {
        "id": "arcbXp5vDwOs",
        "colab_type": "code",
        "colab": {
          "base_uri": "https://localhost:8080/",
          "height": 355
        },
        "outputId": "e990a91e-8d01-4d84-f6db-e2ba5c1656a9"
      },
      "source": [
        "# visualization\n",
        "plt.figure()\n",
        "ax = ctr_site_category_df.plot(kind = 'line', x = 'site_category', y = 'ctr', logy = False, color = 'orange', marker= 'o', legend = True)\n",
        "ax.set_xlabel('site_category', fontsize = 12)\n",
        "ax.set_ylabel('ctr', fontsize = 12)\n",
        "plt.xticks(fontsize=10, rotation = 60)\n",
        "plt.yticks(fontsize=10, rotation = 0)\n",
        "plt.title('CTR for different site_category')\n",
        "display()"
      ],
      "execution_count": 86,
      "outputs": [
        {
          "output_type": "display_data",
          "data": {
            "text/plain": [
              "<Figure size 432x288 with 0 Axes>"
            ]
          },
          "metadata": {
            "tags": []
          }
        },
        {
          "output_type": "display_data",
          "data": {
            "image/png": "[encoded data removed]",
            "text/plain": [
              "<Figure size 432x288 with 1 Axes>"
            ]
          },
          "metadata": {
            "tags": [],
            "needs_background": "light"
          }
        }
      ]
    },
    {
      "cell_type": "markdown",
      "metadata": {
        "id": "lzwZV80-HSyL",
        "colab_type": "text"
      },
      "source": [
        "###1.10. Hour of Day"
      ]
    },
    {
      "cell_type": "code",
      "metadata": {
        "id": "sOySYEYNHegM",
        "colab_type": "code",
        "colab": {
          "base_uri": "https://localhost:8080/",
          "height": 466
        },
        "outputId": "fa8e996e-81de-4d77-eee5-3692bf561363"
      },
      "source": [
        "hour_day = spark.sql('''select substr(hour, 7) as hour,\n",
        "                        count(*) as nums\n",
        "                        from impression\n",
        "                        group by 1\n",
        "                        order by 1''')\n",
        "hour_day.show()"
      ],
      "execution_count": 87,
      "outputs": [
        {
          "output_type": "stream",
          "text": [
            "+----+-----+\n",
            "|hour| nums|\n",
            "+----+-----+\n",
            "|  00| 8531|\n",
            "|  01| 9928|\n",
            "|  02|12282|\n",
            "|  03|14112|\n",
            "|  04|18990|\n",
            "|  05|19625|\n",
            "|  06|17741|\n",
            "|  07|18637|\n",
            "|  08|20991|\n",
            "|  09|22747|\n",
            "|  10|21362|\n",
            "|  11|20585|\n",
            "|  12|22253|\n",
            "|  13|23907|\n",
            "|  14|21943|\n",
            "|  15|20863|\n",
            "|  16|20252|\n",
            "|  17|20547|\n",
            "|  18|17674|\n",
            "|  19|13180|\n",
            "+----+-----+\n",
            "only showing top 20 rows\n",
            "\n"
          ],
          "name": "stdout"
        }
      ]
    },
    {
      "cell_type": "code",
      "metadata": {
        "id": "zlHTzDilH9ZE",
        "colab_type": "code",
        "colab": {}
      },
      "source": [
        "# from spark sql to Pandas Dataframe\n",
        "hour_day_df = hour_day.toPandas()"
      ],
      "execution_count": 0,
      "outputs": []
    },
    {
      "cell_type": "code",
      "metadata": {
        "id": "ESpmZeADIDzV",
        "colab_type": "code",
        "colab": {
          "base_uri": "https://localhost:8080/",
          "height": 321
        },
        "outputId": "6df88e36-d23b-43f8-b446-b67723ab4ebd"
      },
      "source": [
        "# data visualization\n",
        "plt.figure()\n",
        "ax = hour_day_df.plot(kind = 'bar', x = 'hour', y = 'nums', logy = True, color = 'red', legend = True, align = 'center')\n",
        "ax.set_xlabel('hour', fontsize = 12)\n",
        "ax.set_ylabel('nums', fontsize = 12)\n",
        "plt.xticks(fontsize=10, rotation = 60)\n",
        "plt.title('Number of records for different hour in a day')\n",
        "display()"
      ],
      "execution_count": 89,
      "outputs": [
        {
          "output_type": "display_data",
          "data": {
            "text/plain": [
              "<Figure size 432x288 with 0 Axes>"
            ]
          },
          "metadata": {
            "tags": []
          }
        },
        {
          "output_type": "display_data",
          "data": {
            "image/png": "[encoded data removed]",
            "text/plain": [
              "<Figure size 432x288 with 1 Axes>"
            ]
          },
          "metadata": {
            "tags": [],
            "needs_background": "light"
          }
        }
      ]
    },
    {
      "cell_type": "markdown",
      "metadata": {
        "id": "xLj9GlfFIxM9",
        "colab_type": "text"
      },
      "source": [
        "###1.11 click and no_click numbers by different hour of a day"
      ]
    },
    {
      "cell_type": "code",
      "metadata": {
        "id": "IOcYAl1qI5UJ",
        "colab_type": "code",
        "colab": {
          "base_uri": "https://localhost:8080/",
          "height": 466
        },
        "outputId": "711c5743-d59b-456f-f0a1-4f18fb14384a"
      },
      "source": [
        "hour_day_click_no_click = spark.sql('''select substr(hour, 7) as hour,\n",
        "                                       sum(case when click = 1 then 1 else 0 end) as click,\n",
        "                                       sum(case when click = 0 then 1 else 0 end) as no_click\n",
        "                                       from impression\n",
        "                                       group by 1\n",
        "                                       order by 1''')\n",
        "hour_day_click_no_click.show()"
      ],
      "execution_count": 90,
      "outputs": [
        {
          "output_type": "stream",
          "text": [
            "+----+-----+--------+\n",
            "|hour|click|no_click|\n",
            "+----+-----+--------+\n",
            "|  00| 1572|    6959|\n",
            "|  01| 1811|    8117|\n",
            "|  02| 2134|   10148|\n",
            "|  03| 2436|   11676|\n",
            "|  04| 3089|   15901|\n",
            "|  05| 3193|   16432|\n",
            "|  06| 3058|   14683|\n",
            "|  07| 3346|   15291|\n",
            "|  08| 3387|   17604|\n",
            "|  09| 3591|   19156|\n",
            "|  10| 3429|   17933|\n",
            "|  11| 3534|   17051|\n",
            "|  12| 3870|   18383|\n",
            "|  13| 3982|   19925|\n",
            "|  14| 3836|   18107|\n",
            "|  15| 3849|   17014|\n",
            "|  16| 3593|   16659|\n",
            "|  17| 3596|   16951|\n",
            "|  18| 2959|   14715|\n",
            "|  19| 2101|   11079|\n",
            "+----+-----+--------+\n",
            "only showing top 20 rows\n",
            "\n"
          ],
          "name": "stdout"
        }
      ]
    },
    {
      "cell_type": "code",
      "metadata": {
        "id": "IpD24y34Jfbv",
        "colab_type": "code",
        "colab": {}
      },
      "source": [
        "# from spark sql to Pandas Dataframe\n",
        "hour_day_click_no_click_df = hour_day_click_no_click.toPandas()"
      ],
      "execution_count": 0,
      "outputs": []
    },
    {
      "cell_type": "code",
      "metadata": {
        "id": "AqMxR2cUJy-D",
        "colab_type": "code",
        "colab": {
          "base_uri": "https://localhost:8080/",
          "height": 315
        },
        "outputId": "dc4d473a-ecaa-4484-ee69-5745b7dd3fc5"
      },
      "source": [
        "# data visualization\n",
        "plt.figure()\n",
        "ax = hour_day_click_no_click_df.plot(kind = 'bar', stacked=True)\n",
        "ax.set_xlabel('hour', fontsize = 12)\n",
        "ax.set_ylabel('click_no_click', fontsize = 12)\n",
        "plt.xticks(fontsize=10, rotation = 0)\n",
        "plt.title('Number of click or no_click for different hour in a day')\n",
        "display()"
      ],
      "execution_count": 92,
      "outputs": [
        {
          "output_type": "display_data",
          "data": {
            "text/plain": [
              "<Figure size 432x288 with 0 Axes>"
            ]
          },
          "metadata": {
            "tags": []
          }
        },
        {
          "output_type": "display_data",
          "data": {
            "image/png": "[encoded data removed]",
            "text/plain": [
              "<Figure size 432x288 with 1 Axes>"
            ]
          },
          "metadata": {
            "tags": [],
            "needs_background": "light"
          }
        }
      ]
    },
    {
      "cell_type": "markdown",
      "metadata": {
        "id": "qlz_SsgyKG6-",
        "colab_type": "text"
      },
      "source": [
        "###1.11. CTR by hour of a day"
      ]
    },
    {
      "cell_type": "code",
      "metadata": {
        "id": "P1rUVjhAKZHt",
        "colab_type": "code",
        "colab": {
          "base_uri": "https://localhost:8080/",
          "height": 466
        },
        "outputId": "043505c4-fa8e-4eb2-8a33-6d896e6f3bce"
      },
      "source": [
        "ctr_hour_day = spark.sql('''select substr(hour, 7) as hour,\n",
        "                            sum(case when click = 1 then 1 else 0 end) / count(*) as ctr\n",
        "                            from impression\n",
        "                            group by 1\n",
        "                            order by 1''')\n",
        "ctr_hour_day.show()"
      ],
      "execution_count": 93,
      "outputs": [
        {
          "output_type": "stream",
          "text": [
            "+----+-------------------+\n",
            "|hour|                ctr|\n",
            "+----+-------------------+\n",
            "|  00|0.18426913609190013|\n",
            "|  01| 0.1824133763094279|\n",
            "|  02|0.17375020354991044|\n",
            "|  03|0.17261904761904762|\n",
            "|  04|0.16266456029489204|\n",
            "|  05|0.16270063694267517|\n",
            "|  06|0.17236908855194183|\n",
            "|  07|0.17953533293985083|\n",
            "|  08|0.16135486637130197|\n",
            "|  09| 0.1578669714687651|\n",
            "|  10|0.16051867802640202|\n",
            "|  11| 0.1716784066067525|\n",
            "|  12| 0.1739091358468521|\n",
            "|  13|0.16656209478395448|\n",
            "|  14|0.17481657020462107|\n",
            "|  15|0.18448928725494895|\n",
            "|  16|0.17741457633813945|\n",
            "|  17|  0.175013383948995|\n",
            "|  18|0.16742107049903812|\n",
            "|  19| 0.1594081942336874|\n",
            "+----+-------------------+\n",
            "only showing top 20 rows\n",
            "\n"
          ],
          "name": "stdout"
        }
      ]
    },
    {
      "cell_type": "code",
      "metadata": {
        "id": "i04MKn7aK7dl",
        "colab_type": "code",
        "colab": {}
      },
      "source": [
        "# from spark sql to Pandas Dataframe\n",
        "ctr_hour_day_df = ctr_hour_day.toPandas()"
      ],
      "execution_count": 0,
      "outputs": []
    },
    {
      "cell_type": "code",
      "metadata": {
        "id": "aRhCjaJaLBxq",
        "colab_type": "code",
        "colab": {
          "base_uri": "https://localhost:8080/",
          "height": 321
        },
        "outputId": "1a57ba99-fea5-45d2-e451-3144c8e2af57"
      },
      "source": [
        "# visualization\n",
        "plt.figure()\n",
        "ax = ctr_hour_day_df.plot(kind = 'line', x = 'hour', y = 'ctr', logy = False, color = 'orange', marker= 'o', legend = True)\n",
        "ax.set_xlabel('hour', fontsize = 12)\n",
        "ax.set_ylabel('ctr', fontsize = 12)\n",
        "plt.xticks(fontsize=10, rotation = 60)\n",
        "plt.yticks(fontsize=10, rotation = 0)\n",
        "plt.title('CTR for different hour of a day')\n",
        "display()"
      ],
      "execution_count": 95,
      "outputs": [
        {
          "output_type": "display_data",
          "data": {
            "text/plain": [
              "<Figure size 432x288 with 0 Axes>"
            ]
          },
          "metadata": {
            "tags": []
          }
        },
        {
          "output_type": "display_data",
          "data": {
            "image/png": "[encoded data removed]",
            "text/plain": [
              "<Figure size 432x288 with 1 Axes>"
            ]
          },
          "metadata": {
            "tags": [],
            "needs_background": "light"
          }
        }
      ]
    },
    {
      "cell_type": "markdown",
      "metadata": {
        "id": "cBbuWmYwLoPs",
        "colab_type": "text"
      },
      "source": [
        "###1.12. Cardinality of distinct column values\n"
      ]
    },
    {
      "cell_type": "code",
      "metadata": {
        "id": "BXbCrpnGL2se",
        "colab_type": "code",
        "colab": {
          "base_uri": "https://localhost:8080/",
          "height": 141
        },
        "outputId": "d3502e8e-f465-4776-fa20-cf1141baa9fb"
      },
      "source": [
        "cardinality_distinct_values = spark.sql('''\n",
        "                                            select \n",
        "                                            count(*) as total,\n",
        "\n",
        "                                            count(distinct C1) as C1,\n",
        "                                            count(distinct banner_pos) as banner_pos,\n",
        "                                            count(distinct site_id) as site_id,\n",
        "                                            count(distinct site_domain) as site_domain,\n",
        "                                            count(distinct site_category) as site_category,\n",
        "                                            count(distinct app_id) as app_id,\n",
        "                                            count(distinct app_domain) as app_domain,\n",
        "                                            count(distinct app_category) as app_category,\n",
        "                                            count(distinct device_id) as device_id,\n",
        "                                            count(distinct device_ip) as device_ip,\n",
        "                                            count(distinct device_model) as device_model,\n",
        "                                            count(distinct device_type) as device_type,\n",
        "                                            count(distinct device_conn_type) as device_conn_type,\n",
        "                                            count(distinct C14) as C14,\n",
        "                                            count(distinct C15) as C15,\n",
        "                                            count(distinct C16) as C16,\n",
        "                                            count(distinct C17) as C17,\n",
        "                                            count(distinct C18) as C18,\n",
        "                                            count(distinct C19) as C19,\n",
        "                                            count(distinct C20) as C20,\n",
        "                                            count(distinct C21) as C21\n",
        "                                            from impression''')\n",
        "\n",
        "cardinality_distinct_values.show()"
      ],
      "execution_count": 96,
      "outputs": [
        {
          "output_type": "stream",
          "text": [
            "+------+---+----------+-------+-----------+-------------+------+----------+------------+---------+---------+------------+-----------+----------------+----+---+---+---+---+---+---+---+\n",
            "| total| C1|banner_pos|site_id|site_domain|site_category|app_id|app_domain|app_category|device_id|device_ip|device_model|device_type|device_conn_type| C14|C15|C16|C17|C18|C19|C20|C21|\n",
            "+------+---+----------+-------+-----------+-------------+------+----------+------------+---------+---------+------------+-----------+----------------+----+---+---+---+---+---+---+---+\n",
            "|404290|  7|         7|   2225|       2188|           22|  2241|       143|          27|    64742|   261706|        4380|          4|               4|2088|  8|  9|411|  4| 65|161| 60|\n",
            "+------+---+----------+-------+-----------+-------------+------+----------+------------+---------+---------+------------+-----------+----------------+----+---+---+---+---+---+---+---+\n",
            "\n"
          ],
          "name": "stdout"
        }
      ]
    },
    {
      "cell_type": "code",
      "metadata": {
        "id": "KKozZGbgMpKy",
        "colab_type": "code",
        "colab": {
          "base_uri": "https://localhost:8080/",
          "height": 210
        },
        "outputId": "89737132-a668-4c16-fe09-c4bb3ab4aa98"
      },
      "source": [
        "impression.describe().show()"
      ],
      "execution_count": 98,
      "outputs": [
        {
          "output_type": "stream",
          "text": [
            "+-------+--------------------+--------------------+-------------------+--------------------+------------------+------------------+--------+-----------+-------------+--------+----------+------------+---------+---------+------------+------------------+------------------+-----------------+------------------+------------------+------------------+------------------+------------------+-----------------+-----------------+\n",
            "|summary|                 _c0|                  id|              click|                hour|                C1|        banner_pos| site_id|site_domain|site_category|  app_id|app_domain|app_category|device_id|device_ip|device_model|       device_type|  device_conn_type|              C14|               C15|               C16|               C17|               C18|               C19|              C20|              C21|\n",
            "+-------+--------------------+--------------------+-------------------+--------------------+------------------+------------------+--------+-----------+-------------+--------+----------+------------+---------+---------+------------+------------------+------------------+-----------------+------------------+------------------+------------------+------------------+------------------+-----------------+-----------------+\n",
            "|  count|              404290|              404290|             404290|              404290|            404290|            404290|  404290|     404290|       404290|  404290|    404290|      404290|   404290|   404290|      404290|            404290|            404290|           404290|            404290|            404290|            404290|            404290|            404290|           404290|           404290|\n",
            "|   mean|2.0214476988369733E7|9.220275568720330...|0.16981622102945906|1.4102558282453189E7|1004.9690642855376|0.2877093175690717|Infinity|   Infinity|     Infinity|Infinity|  Infinity|        null| Infinity| Infinity|    Infinity|1.0154196245269484|0.3320710381162037|18849.98919587425| 318.8798238887927|60.084018897326175|2113.4328724430484|1.4306957876771624|227.43499468203518|  53224.206230676|83.46128274258577|\n",
            "| stddev|1.1670853938745312E7|5.327286615116152...|0.37547173104295906|  296.68633737500465|1.0936454906748962|0.5060090168595375|     NaN|        NaN|          NaN|     NaN|       NaN|        null|      NaN|      NaN|         NaN|0.5264437473549617|0.8555178281235045|4951.095048573783|21.406069371546728| 47.44964333363215|  608.652988020534|1.3261632278617588| 351.1808639346425|49956.50454616006| 70.3379036002272|\n",
            "|    min|                 243|  6.1964861662511E13|                  0|            14102100|              1001|                 0|00255fb4|   005b495a|     0569f928|000d6291|  063914ab|    07d7df22| 0001e84c| 0000b7a7|    00097428|                 0|                 0|              375|               120|                20|               112|                 0|                33|               -1|                1|\n",
            "|    max|            40428856|1.844672003321260...|                  1|            14103023|              1012|                 7|fffe8e1c|   fff602a2|     f66779e6|fff4213a|  fea0d84a|    fc6fa53d| ffffd98b| ffffc60c|    ffeafe15|                 5|                 5|            24043|              1024|              1024|              2757|                 3|              1839|           100248|              255|\n",
            "+-------+--------------------+--------------------+-------------------+--------------------+------------------+------------------+--------+-----------+-------------+--------+----------+------------+---------+---------+------------+------------------+------------------+-----------------+------------------+------------------+------------------+------------------+------------------+-----------------+-----------------+\n",
            "\n"
          ],
          "name": "stdout"
        }
      ]
    }
  ]
}