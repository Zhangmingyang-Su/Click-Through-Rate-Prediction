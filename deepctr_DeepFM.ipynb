{
  "nbformat": 4,
  "nbformat_minor": 0,
  "metadata": {
    "colab": {
      "name": "deepctr-DeepFM.ipynb",
      "provenance": [],
      "authorship_tag": "ABX9TyMZcQxijmVyGkWOqr98KCZ/",
      "include_colab_link": true
    },
    "kernelspec": {
      "name": "python3",
      "display_name": "Python 3"
    }
  },
  "cells": [
    {
      "cell_type": "markdown",
      "metadata": {
        "id": "view-in-github",
        "colab_type": "text"
      },
      "source": [
        "<a href=\"https://colab.research.google.com/github/Zhangmingyang-Su/Click-Through-Rate-Prediction/blob/master/deepctr_DeepFM.ipynb\" target=\"_parent\"><img src=\"https://colab.research.google.com/assets/colab-badge.svg\" alt=\"Open In Colab\"/></a>"
      ]
    },
    {
      "cell_type": "markdown",
      "metadata": {
        "id": "miVcwzE1WylR",
        "colab_type": "text"
      },
      "source": [
        "# DeepFM Model for CTR Prediction"
      ]
    },
    {
      "cell_type": "markdown",
      "metadata": {
        "id": "RM-yWihVXZXb",
        "colab_type": "text"
      },
      "source": [
        "##1. Load File"
      ]
    },
    {
      "cell_type": "code",
      "metadata": {
        "id": "6VNi-Tl6W4jH",
        "colab_type": "code",
        "colab": {
          "resources": {
            "http://localhost:8080/nbextensions/google.colab/files.js": {
              "data": "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",
              "ok": true,
              "headers": [
                [
                  "content-type",
                  "application/javascript"
                ]
              ],
              "status": 200,
              "status_text": ""
            }
          },
          "base_uri": "https://localhost:8080/",
          "height": 89
        },
        "outputId": "6a758864-9ff0-45ea-c508-15892b18c289"
      },
      "source": [
        "from google.colab import files\n",
        "\n",
        "uploaded = files.upload()\n",
        "\n",
        "for fn in uploaded.keys():\n",
        "  print('User uploaded file \"{name}\" with length {length} bytes'.format(\n",
        "      name=fn, length=len(uploaded[fn])))"
      ],
      "execution_count": null,
      "outputs": [
        {
          "output_type": "display_data",
          "data": {
            "text/html": [
              "\n",
              "     <input type=\"file\" id=\"files-ef1017f1-8c6e-4f78-8e45-7b370624b6b1\" name=\"files[]\" multiple disabled\n",
              "        style=\"border:none\" />\n",
              "     <output id=\"result-ef1017f1-8c6e-4f78-8e45-7b370624b6b1\">\n",
              "      Upload widget is only available when the cell has been executed in the\n",
              "      current browser session. Please rerun this cell to enable.\n",
              "      </output>\n",
              "      <script src=\"/nbextensions/google.colab/files.js\"></script> "
            ],
            "text/plain": [
              "<IPython.core.display.HTML object>"
            ]
          },
          "metadata": {
            "tags": []
          }
        },
        {
          "output_type": "stream",
          "text": [
            "Saving filtered_train.csv to filtered_train.csv\n",
            "User uploaded file \"filtered_train.csv\" with length 67056673 bytes\n"
          ],
          "name": "stdout"
        }
      ]
    },
    {
      "cell_type": "markdown",
      "metadata": {
        "id": "QKg_u3RdXgyf",
        "colab_type": "text"
      },
      "source": [
        "##1.1 Install Deepctr "
      ]
    },
    {
      "cell_type": "code",
      "metadata": {
        "id": "JlNdE2vNxhEI",
        "colab_type": "code",
        "colab": {
          "base_uri": "https://localhost:8080/",
          "height": 785
        },
        "outputId": "a91971d7-0e7f-4e6a-fb62-7bc0dc1b008d"
      },
      "source": [
        "!pip install deepctr[gpu]"
      ],
      "execution_count": null,
      "outputs": [
        {
          "output_type": "stream",
          "text": [
            "Collecting deepctr[gpu]\n",
            "\u001b[?25l  Downloading https://files.pythonhosted.org/packages/4d/84/c3baa57def7778ce2b297cdcb1d1daddc41e608efa2714c1862f3f7c861d/deepctr-0.7.5-py3-none-any.whl (82kB)\n",
            "\r\u001b[K     |████                            | 10kB 17.1MB/s eta 0:00:01\r\u001b[K     |████████                        | 20kB 1.7MB/s eta 0:00:01\r\u001b[K     |████████████                    | 30kB 2.2MB/s eta 0:00:01\r\u001b[K     |████████████████                | 40kB 2.5MB/s eta 0:00:01\r\u001b[K     |████████████████████            | 51kB 2.0MB/s eta 0:00:01\r\u001b[K     |████████████████████████        | 61kB 2.3MB/s eta 0:00:01\r\u001b[K     |████████████████████████████    | 71kB 2.5MB/s eta 0:00:01\r\u001b[K     |████████████████████████████████| 81kB 2.8MB/s eta 0:00:01\r\u001b[K     |████████████████████████████████| 92kB 2.5MB/s \n",
            "\u001b[?25hRequirement already satisfied: requests in /usr/local/lib/python3.6/dist-packages (from deepctr[gpu]) (2.23.0)\n",
            "Requirement already satisfied: h5py in /usr/local/lib/python3.6/dist-packages (from deepctr[gpu]) (2.10.0)\n",
            "Collecting tensorflow-gpu!=1.7.*,!=1.8.*,>=1.4.0; extra == \"gpu\"\n",
            "\u001b[?25l  Downloading https://files.pythonhosted.org/packages/31/bf/c28971266ca854a64f4b26f07c4112ddd61f30b4d1f18108b954a746f8ea/tensorflow_gpu-2.2.0-cp36-cp36m-manylinux2010_x86_64.whl (516.2MB)\n",
            "\u001b[K     |████████████████████████████████| 516.2MB 17kB/s \n",
            "\u001b[?25hRequirement already satisfied: certifi>=2017.4.17 in /usr/local/lib/python3.6/dist-packages (from requests->deepctr[gpu]) (2020.4.5.2)\n",
            "Requirement already satisfied: urllib3!=1.25.0,!=1.25.1,<1.26,>=1.21.1 in /usr/local/lib/python3.6/dist-packages (from requests->deepctr[gpu]) (1.24.3)\n",
            "Requirement already satisfied: chardet<4,>=3.0.2 in /usr/local/lib/python3.6/dist-packages (from requests->deepctr[gpu]) (3.0.4)\n",
            "Requirement already satisfied: idna<3,>=2.5 in /usr/local/lib/python3.6/dist-packages (from requests->deepctr[gpu]) (2.9)\n",
            "Requirement already satisfied: six in /usr/local/lib/python3.6/dist-packages (from h5py->deepctr[gpu]) (1.12.0)\n",
            "Requirement already satisfied: numpy>=1.7 in /usr/local/lib/python3.6/dist-packages (from h5py->deepctr[gpu]) (1.18.5)\n",
            "Requirement already satisfied: grpcio>=1.8.6 in /usr/local/lib/python3.6/dist-packages (from tensorflow-gpu!=1.7.*,!=1.8.*,>=1.4.0; extra == \"gpu\"->deepctr[gpu]) (1.29.0)\n",
            "Requirement already satisfied: google-pasta>=0.1.8 in /usr/local/lib/python3.6/dist-packages (from tensorflow-gpu!=1.7.*,!=1.8.*,>=1.4.0; extra == \"gpu\"->deepctr[gpu]) (0.2.0)\n",
            "Requirement already satisfied: keras-preprocessing>=1.1.0 in /usr/local/lib/python3.6/dist-packages (from tensorflow-gpu!=1.7.*,!=1.8.*,>=1.4.0; extra == \"gpu\"->deepctr[gpu]) (1.1.2)\n",
            "Requirement already satisfied: astunparse==1.6.3 in /usr/local/lib/python3.6/dist-packages (from tensorflow-gpu!=1.7.*,!=1.8.*,>=1.4.0; extra == \"gpu\"->deepctr[gpu]) (1.6.3)\n",
            "Requirement already satisfied: opt-einsum>=2.3.2 in /usr/local/lib/python3.6/dist-packages (from tensorflow-gpu!=1.7.*,!=1.8.*,>=1.4.0; extra == \"gpu\"->deepctr[gpu]) (3.2.1)\n",
            "Requirement already satisfied: protobuf>=3.8.0 in /usr/local/lib/python3.6/dist-packages (from tensorflow-gpu!=1.7.*,!=1.8.*,>=1.4.0; extra == \"gpu\"->deepctr[gpu]) (3.10.0)\n",
            "Requirement already satisfied: termcolor>=1.1.0 in /usr/local/lib/python3.6/dist-packages (from tensorflow-gpu!=1.7.*,!=1.8.*,>=1.4.0; extra == \"gpu\"->deepctr[gpu]) (1.1.0)\n",
            "Requirement already satisfied: gast==0.3.3 in /usr/local/lib/python3.6/dist-packages (from tensorflow-gpu!=1.7.*,!=1.8.*,>=1.4.0; extra == \"gpu\"->deepctr[gpu]) (0.3.3)\n",
            "Requirement already satisfied: wheel>=0.26; python_version >= \"3\" in /usr/local/lib/python3.6/dist-packages (from tensorflow-gpu!=1.7.*,!=1.8.*,>=1.4.0; extra == \"gpu\"->deepctr[gpu]) (0.34.2)\n",
            "Requirement already satisfied: scipy==1.4.1; python_version >= \"3\" in /usr/local/lib/python3.6/dist-packages (from tensorflow-gpu!=1.7.*,!=1.8.*,>=1.4.0; extra == \"gpu\"->deepctr[gpu]) (1.4.1)\n",
            "Requirement already satisfied: tensorboard<2.3.0,>=2.2.0 in /usr/local/lib/python3.6/dist-packages (from tensorflow-gpu!=1.7.*,!=1.8.*,>=1.4.0; extra == \"gpu\"->deepctr[gpu]) (2.2.2)\n",
            "Requirement already satisfied: wrapt>=1.11.1 in /usr/local/lib/python3.6/dist-packages (from tensorflow-gpu!=1.7.*,!=1.8.*,>=1.4.0; extra == \"gpu\"->deepctr[gpu]) (1.12.1)\n",
            "Requirement already satisfied: absl-py>=0.7.0 in /usr/local/lib/python3.6/dist-packages (from tensorflow-gpu!=1.7.*,!=1.8.*,>=1.4.0; extra == \"gpu\"->deepctr[gpu]) (0.9.0)\n",
            "Requirement already satisfied: tensorflow-estimator<2.3.0,>=2.2.0 in /usr/local/lib/python3.6/dist-packages (from tensorflow-gpu!=1.7.*,!=1.8.*,>=1.4.0; extra == \"gpu\"->deepctr[gpu]) (2.2.0)\n",
            "Requirement already satisfied: setuptools in /usr/local/lib/python3.6/dist-packages (from protobuf>=3.8.0->tensorflow-gpu!=1.7.*,!=1.8.*,>=1.4.0; extra == \"gpu\"->deepctr[gpu]) (47.3.1)\n",
            "Requirement already satisfied: google-auth<2,>=1.6.3 in /usr/local/lib/python3.6/dist-packages (from tensorboard<2.3.0,>=2.2.0->tensorflow-gpu!=1.7.*,!=1.8.*,>=1.4.0; extra == \"gpu\"->deepctr[gpu]) (1.17.2)\n",
            "Requirement already satisfied: markdown>=2.6.8 in /usr/local/lib/python3.6/dist-packages (from tensorboard<2.3.0,>=2.2.0->tensorflow-gpu!=1.7.*,!=1.8.*,>=1.4.0; extra == \"gpu\"->deepctr[gpu]) (3.2.2)\n",
            "Requirement already satisfied: werkzeug>=0.11.15 in /usr/local/lib/python3.6/dist-packages (from tensorboard<2.3.0,>=2.2.0->tensorflow-gpu!=1.7.*,!=1.8.*,>=1.4.0; extra == \"gpu\"->deepctr[gpu]) (1.0.1)\n",
            "Requirement already satisfied: google-auth-oauthlib<0.5,>=0.4.1 in /usr/local/lib/python3.6/dist-packages (from tensorboard<2.3.0,>=2.2.0->tensorflow-gpu!=1.7.*,!=1.8.*,>=1.4.0; extra == \"gpu\"->deepctr[gpu]) (0.4.1)\n",
            "Requirement already satisfied: tensorboard-plugin-wit>=1.6.0 in /usr/local/lib/python3.6/dist-packages (from tensorboard<2.3.0,>=2.2.0->tensorflow-gpu!=1.7.*,!=1.8.*,>=1.4.0; extra == \"gpu\"->deepctr[gpu]) (1.6.0.post3)\n",
            "Requirement already satisfied: rsa<5,>=3.1.4; python_version >= \"3\" in /usr/local/lib/python3.6/dist-packages (from google-auth<2,>=1.6.3->tensorboard<2.3.0,>=2.2.0->tensorflow-gpu!=1.7.*,!=1.8.*,>=1.4.0; extra == \"gpu\"->deepctr[gpu]) (4.6)\n",
            "Requirement already satisfied: cachetools<5.0,>=2.0.0 in /usr/local/lib/python3.6/dist-packages (from google-auth<2,>=1.6.3->tensorboard<2.3.0,>=2.2.0->tensorflow-gpu!=1.7.*,!=1.8.*,>=1.4.0; extra == \"gpu\"->deepctr[gpu]) (4.1.0)\n",
            "Requirement already satisfied: pyasn1-modules>=0.2.1 in /usr/local/lib/python3.6/dist-packages (from google-auth<2,>=1.6.3->tensorboard<2.3.0,>=2.2.0->tensorflow-gpu!=1.7.*,!=1.8.*,>=1.4.0; extra == \"gpu\"->deepctr[gpu]) (0.2.8)\n",
            "Requirement already satisfied: importlib-metadata; python_version < \"3.8\" in /usr/local/lib/python3.6/dist-packages (from markdown>=2.6.8->tensorboard<2.3.0,>=2.2.0->tensorflow-gpu!=1.7.*,!=1.8.*,>=1.4.0; extra == \"gpu\"->deepctr[gpu]) (1.6.1)\n",
            "Requirement already satisfied: requests-oauthlib>=0.7.0 in /usr/local/lib/python3.6/dist-packages (from google-auth-oauthlib<0.5,>=0.4.1->tensorboard<2.3.0,>=2.2.0->tensorflow-gpu!=1.7.*,!=1.8.*,>=1.4.0; extra == \"gpu\"->deepctr[gpu]) (1.3.0)\n",
            "Requirement already satisfied: pyasn1>=0.1.3 in /usr/local/lib/python3.6/dist-packages (from rsa<5,>=3.1.4; python_version >= \"3\"->google-auth<2,>=1.6.3->tensorboard<2.3.0,>=2.2.0->tensorflow-gpu!=1.7.*,!=1.8.*,>=1.4.0; extra == \"gpu\"->deepctr[gpu]) (0.4.8)\n",
            "Requirement already satisfied: zipp>=0.5 in /usr/local/lib/python3.6/dist-packages (from importlib-metadata; python_version < \"3.8\"->markdown>=2.6.8->tensorboard<2.3.0,>=2.2.0->tensorflow-gpu!=1.7.*,!=1.8.*,>=1.4.0; extra == \"gpu\"->deepctr[gpu]) (3.1.0)\n",
            "Requirement already satisfied: oauthlib>=3.0.0 in /usr/local/lib/python3.6/dist-packages (from requests-oauthlib>=0.7.0->google-auth-oauthlib<0.5,>=0.4.1->tensorboard<2.3.0,>=2.2.0->tensorflow-gpu!=1.7.*,!=1.8.*,>=1.4.0; extra == \"gpu\"->deepctr[gpu]) (3.1.0)\n",
            "Installing collected packages: tensorflow-gpu, deepctr\n",
            "Successfully installed deepctr-0.7.5 tensorflow-gpu-2.2.0\n"
          ],
          "name": "stdout"
        }
      ]
    },
    {
      "cell_type": "markdown",
      "metadata": {
        "id": "CaJ2r9seZ2AF",
        "colab_type": "text"
      },
      "source": [
        "##1.2 Data Transformation"
      ]
    },
    {
      "cell_type": "code",
      "metadata": {
        "id": "WbmzA-bbxFOt",
        "colab_type": "code",
        "colab": {}
      },
      "source": [
        "# import package from deepctr\n",
        "import pandas as pd\n",
        "from sklearn.metrics import log_loss, roc_auc_score\n",
        "from sklearn.model_selection import train_test_split\n",
        "from sklearn.preprocessing import LabelEncoder, MinMaxScaler\n",
        "from deepctr.models import DeepFM\n",
        "from deepctr.inputs import SparseFeat, DenseFeat, get_feature_names"
      ],
      "execution_count": null,
      "outputs": []
    },
    {
      "cell_type": "code",
      "metadata": {
        "id": "_wtnsjryxChb",
        "colab_type": "code",
        "colab": {
          "base_uri": "https://localhost:8080/",
          "height": 241
        },
        "outputId": "5da8119a-dd39-421f-bacf-d2b60caa3e3e"
      },
      "source": [
        "# read csv file\n",
        "dataset = pd.read_csv(\"filtered_train.csv\")\n",
        "dataset.head()"
      ],
      "execution_count": null,
      "outputs": [
        {
          "output_type": "execute_result",
          "data": {
            "text/html": [
              "<div>\n",
              "<style scoped>\n",
              "    .dataframe tbody tr th:only-of-type {\n",
              "        vertical-align: middle;\n",
              "    }\n",
              "\n",
              "    .dataframe tbody tr th {\n",
              "        vertical-align: top;\n",
              "    }\n",
              "\n",
              "    .dataframe thead th {\n",
              "        text-align: right;\n",
              "    }\n",
              "</style>\n",
              "<table border=\"1\" class=\"dataframe\">\n",
              "  <thead>\n",
              "    <tr style=\"text-align: right;\">\n",
              "      <th></th>\n",
              "      <th>Unnamed: 0</th>\n",
              "      <th>id</th>\n",
              "      <th>click</th>\n",
              "      <th>hour</th>\n",
              "      <th>C1</th>\n",
              "      <th>banner_pos</th>\n",
              "      <th>site_id</th>\n",
              "      <th>site_domain</th>\n",
              "      <th>site_category</th>\n",
              "      <th>app_id</th>\n",
              "      <th>app_domain</th>\n",
              "      <th>app_category</th>\n",
              "      <th>device_id</th>\n",
              "      <th>device_ip</th>\n",
              "      <th>device_model</th>\n",
              "      <th>device_type</th>\n",
              "      <th>device_conn_type</th>\n",
              "      <th>C14</th>\n",
              "      <th>C15</th>\n",
              "      <th>C16</th>\n",
              "      <th>C17</th>\n",
              "      <th>C18</th>\n",
              "      <th>C19</th>\n",
              "      <th>C20</th>\n",
              "      <th>C21</th>\n",
              "    </tr>\n",
              "  </thead>\n",
              "  <tbody>\n",
              "    <tr>\n",
              "      <th>0</th>\n",
              "      <td>128037</td>\n",
              "      <td>1.107451e+19</td>\n",
              "      <td>0</td>\n",
              "      <td>14102101</td>\n",
              "      <td>1005</td>\n",
              "      <td>1</td>\n",
              "      <td>e151e245</td>\n",
              "      <td>7e091613</td>\n",
              "      <td>f028772b</td>\n",
              "      <td>ecad2386</td>\n",
              "      <td>7801e8d9</td>\n",
              "      <td>07d7df22</td>\n",
              "      <td>a99f214a</td>\n",
              "      <td>10dcdfb1</td>\n",
              "      <td>88fe1d5d</td>\n",
              "      <td>1</td>\n",
              "      <td>0</td>\n",
              "      <td>20352</td>\n",
              "      <td>320</td>\n",
              "      <td>50</td>\n",
              "      <td>2333</td>\n",
              "      <td>0</td>\n",
              "      <td>39</td>\n",
              "      <td>-1</td>\n",
              "      <td>157</td>\n",
              "    </tr>\n",
              "    <tr>\n",
              "      <th>1</th>\n",
              "      <td>491755</td>\n",
              "      <td>1.240012e+19</td>\n",
              "      <td>0</td>\n",
              "      <td>14102103</td>\n",
              "      <td>1005</td>\n",
              "      <td>0</td>\n",
              "      <td>1fbe01fe</td>\n",
              "      <td>f3845767</td>\n",
              "      <td>28905ebd</td>\n",
              "      <td>ecad2386</td>\n",
              "      <td>7801e8d9</td>\n",
              "      <td>07d7df22</td>\n",
              "      <td>a99f214a</td>\n",
              "      <td>9f351a94</td>\n",
              "      <td>3db9fde9</td>\n",
              "      <td>1</td>\n",
              "      <td>0</td>\n",
              "      <td>15701</td>\n",
              "      <td>320</td>\n",
              "      <td>50</td>\n",
              "      <td>1722</td>\n",
              "      <td>0</td>\n",
              "      <td>35</td>\n",
              "      <td>100084</td>\n",
              "      <td>79</td>\n",
              "    </tr>\n",
              "    <tr>\n",
              "      <th>2</th>\n",
              "      <td>470924</td>\n",
              "      <td>1.059801e+19</td>\n",
              "      <td>0</td>\n",
              "      <td>14102103</td>\n",
              "      <td>1005</td>\n",
              "      <td>1</td>\n",
              "      <td>d9750ee7</td>\n",
              "      <td>98572c79</td>\n",
              "      <td>f028772b</td>\n",
              "      <td>ecad2386</td>\n",
              "      <td>7801e8d9</td>\n",
              "      <td>07d7df22</td>\n",
              "      <td>a99f214a</td>\n",
              "      <td>158aae2e</td>\n",
              "      <td>c144e605</td>\n",
              "      <td>1</td>\n",
              "      <td>0</td>\n",
              "      <td>17614</td>\n",
              "      <td>320</td>\n",
              "      <td>50</td>\n",
              "      <td>1993</td>\n",
              "      <td>2</td>\n",
              "      <td>1063</td>\n",
              "      <td>-1</td>\n",
              "      <td>33</td>\n",
              "    </tr>\n",
              "    <tr>\n",
              "      <th>3</th>\n",
              "      <td>791624</td>\n",
              "      <td>1.844219e+18</td>\n",
              "      <td>0</td>\n",
              "      <td>14102104</td>\n",
              "      <td>1005</td>\n",
              "      <td>1</td>\n",
              "      <td>856e6d3f</td>\n",
              "      <td>58a89a43</td>\n",
              "      <td>f028772b</td>\n",
              "      <td>ecad2386</td>\n",
              "      <td>7801e8d9</td>\n",
              "      <td>07d7df22</td>\n",
              "      <td>a99f214a</td>\n",
              "      <td>87f758ac</td>\n",
              "      <td>0eb711ec</td>\n",
              "      <td>1</td>\n",
              "      <td>0</td>\n",
              "      <td>16208</td>\n",
              "      <td>320</td>\n",
              "      <td>50</td>\n",
              "      <td>1800</td>\n",
              "      <td>3</td>\n",
              "      <td>167</td>\n",
              "      <td>100075</td>\n",
              "      <td>23</td>\n",
              "    </tr>\n",
              "    <tr>\n",
              "      <th>4</th>\n",
              "      <td>491263</td>\n",
              "      <td>1.236016e+19</td>\n",
              "      <td>1</td>\n",
              "      <td>14102103</td>\n",
              "      <td>1005</td>\n",
              "      <td>1</td>\n",
              "      <td>d9750ee7</td>\n",
              "      <td>98572c79</td>\n",
              "      <td>f028772b</td>\n",
              "      <td>ecad2386</td>\n",
              "      <td>7801e8d9</td>\n",
              "      <td>07d7df22</td>\n",
              "      <td>a99f214a</td>\n",
              "      <td>d55aa41c</td>\n",
              "      <td>3bd9e8e7</td>\n",
              "      <td>1</td>\n",
              "      <td>0</td>\n",
              "      <td>17614</td>\n",
              "      <td>320</td>\n",
              "      <td>50</td>\n",
              "      <td>1993</td>\n",
              "      <td>2</td>\n",
              "      <td>1063</td>\n",
              "      <td>-1</td>\n",
              "      <td>33</td>\n",
              "    </tr>\n",
              "  </tbody>\n",
              "</table>\n",
              "</div>"
            ],
            "text/plain": [
              "   Unnamed: 0            id  click      hour  ...  C18   C19     C20  C21\n",
              "0      128037  1.107451e+19      0  14102101  ...    0    39      -1  157\n",
              "1      491755  1.240012e+19      0  14102103  ...    0    35  100084   79\n",
              "2      470924  1.059801e+19      0  14102103  ...    2  1063      -1   33\n",
              "3      791624  1.844219e+18      0  14102104  ...    3   167  100075   23\n",
              "4      491263  1.236016e+19      1  14102103  ...    2  1063      -1   33\n",
              "\n",
              "[5 rows x 25 columns]"
            ]
          },
          "metadata": {
            "tags": []
          },
          "execution_count": 5
        }
      ]
    },
    {
      "cell_type": "code",
      "metadata": {
        "id": "v5PO19f3w8y5",
        "colab_type": "code",
        "colab": {
          "base_uri": "https://localhost:8080/",
          "height": 561
        },
        "outputId": "45d55a5d-5bc9-42b3-8eb0-faba608d0873"
      },
      "source": [
        "dataset.info()"
      ],
      "execution_count": null,
      "outputs": [
        {
          "output_type": "stream",
          "text": [
            "<class 'pandas.core.frame.DataFrame'>\n",
            "RangeIndex: 404290 entries, 0 to 404289\n",
            "Data columns (total 25 columns):\n",
            " #   Column            Non-Null Count   Dtype  \n",
            "---  ------            --------------   -----  \n",
            " 0   Unnamed: 0        404290 non-null  int64  \n",
            " 1   id                404290 non-null  float64\n",
            " 2   click             404290 non-null  int64  \n",
            " 3   hour              404290 non-null  float64\n",
            " 4   C1                404290 non-null  float64\n",
            " 5   banner_pos        404290 non-null  float64\n",
            " 6   site_id           404290 non-null  int64  \n",
            " 7   site_domain       404290 non-null  int64  \n",
            " 8   site_category     404290 non-null  int64  \n",
            " 9   app_id            404290 non-null  int64  \n",
            " 10  app_domain        404290 non-null  int64  \n",
            " 11  app_category      404290 non-null  int64  \n",
            " 12  device_id         404290 non-null  object \n",
            " 13  device_ip         404290 non-null  object \n",
            " 14  device_model      404290 non-null  int64  \n",
            " 15  device_type       404290 non-null  float64\n",
            " 16  device_conn_type  404290 non-null  float64\n",
            " 17  C14               404290 non-null  float64\n",
            " 18  C15               404290 non-null  float64\n",
            " 19  C16               404290 non-null  float64\n",
            " 20  C17               404290 non-null  float64\n",
            " 21  C18               404290 non-null  float64\n",
            " 22  C19               404290 non-null  float64\n",
            " 23  C20               404290 non-null  int64  \n",
            " 24  C21               404290 non-null  float64\n",
            "dtypes: float64(13), int64(10), object(2)\n",
            "memory usage: 77.1+ MB\n"
          ],
          "name": "stdout"
        }
      ]
    },
    {
      "cell_type": "code",
      "metadata": {
        "id": "uMaxeyVKzb1C",
        "colab_type": "code",
        "colab": {}
      },
      "source": [
        "# features for embedding \n",
        "Sparse_feature = [\"site_id\", \"site_domain\", \"site_category\", \"app_id\", \"app_domain\", \"app_category\", \"device_model\"]"
      ],
      "execution_count": null,
      "outputs": []
    },
    {
      "cell_type": "code",
      "metadata": {
        "id": "f54vtHrU1Axk",
        "colab_type": "code",
        "colab": {}
      },
      "source": [
        "# features for embedding \n",
        "Dense_feature = [\"hour\", \"C1\", \"banner_pos\", \"device_type\", \"device_conn_type\", \"C14\", \"C15\", \"C16\", \"C17\", \"C18\", \"C19\", \"C21\"]"
      ],
      "execution_count": null,
      "outputs": []
    },
    {
      "cell_type": "code",
      "metadata": {
        "id": "N0PDSziT1o9u",
        "colab_type": "code",
        "colab": {}
      },
      "source": [
        "target = [\"click\"]"
      ],
      "execution_count": null,
      "outputs": []
    },
    {
      "cell_type": "code",
      "metadata": {
        "id": "N9Rt-sIE1zQU",
        "colab_type": "code",
        "colab": {
          "base_uri": "https://localhost:8080/",
          "height": 241
        },
        "outputId": "2136cc8f-7988-4bc0-bfbe-fd0cdbb84673"
      },
      "source": [
        "# label encoding for different char categorical features\n",
        "def Label(x):\n",
        "  for feat in x:\n",
        "    lbe = LabelEncoder()\n",
        "    dataset[feat] = lbe.fit_transform(dataset[feat])\n",
        "  return dataset\n",
        "\n",
        "dataset = Label(Sparse_feature)\n",
        "dataset.head()"
      ],
      "execution_count": null,
      "outputs": [
        {
          "output_type": "execute_result",
          "data": {
            "text/html": [
              "<div>\n",
              "<style scoped>\n",
              "    .dataframe tbody tr th:only-of-type {\n",
              "        vertical-align: middle;\n",
              "    }\n",
              "\n",
              "    .dataframe tbody tr th {\n",
              "        vertical-align: top;\n",
              "    }\n",
              "\n",
              "    .dataframe thead th {\n",
              "        text-align: right;\n",
              "    }\n",
              "</style>\n",
              "<table border=\"1\" class=\"dataframe\">\n",
              "  <thead>\n",
              "    <tr style=\"text-align: right;\">\n",
              "      <th></th>\n",
              "      <th>Unnamed: 0</th>\n",
              "      <th>id</th>\n",
              "      <th>click</th>\n",
              "      <th>hour</th>\n",
              "      <th>C1</th>\n",
              "      <th>banner_pos</th>\n",
              "      <th>site_id</th>\n",
              "      <th>site_domain</th>\n",
              "      <th>site_category</th>\n",
              "      <th>app_id</th>\n",
              "      <th>app_domain</th>\n",
              "      <th>app_category</th>\n",
              "      <th>device_id</th>\n",
              "      <th>device_ip</th>\n",
              "      <th>device_model</th>\n",
              "      <th>device_type</th>\n",
              "      <th>device_conn_type</th>\n",
              "      <th>C14</th>\n",
              "      <th>C15</th>\n",
              "      <th>C16</th>\n",
              "      <th>C17</th>\n",
              "      <th>C18</th>\n",
              "      <th>C19</th>\n",
              "      <th>C20</th>\n",
              "      <th>C21</th>\n",
              "    </tr>\n",
              "  </thead>\n",
              "  <tbody>\n",
              "    <tr>\n",
              "      <th>0</th>\n",
              "      <td>128037</td>\n",
              "      <td>1.107451e+19</td>\n",
              "      <td>0</td>\n",
              "      <td>0.001083</td>\n",
              "      <td>0.363636</td>\n",
              "      <td>0.142857</td>\n",
              "      <td>1939</td>\n",
              "      <td>1096</td>\n",
              "      <td>20</td>\n",
              "      <td>2060</td>\n",
              "      <td>63</td>\n",
              "      <td>0</td>\n",
              "      <td>a99f214a</td>\n",
              "      <td>10dcdfb1</td>\n",
              "      <td>2331</td>\n",
              "      <td>0.2</td>\n",
              "      <td>0.0</td>\n",
              "      <td>0.844051</td>\n",
              "      <td>0.221239</td>\n",
              "      <td>0.02988</td>\n",
              "      <td>0.839698</td>\n",
              "      <td>0.000000</td>\n",
              "      <td>0.003322</td>\n",
              "      <td>-1</td>\n",
              "      <td>0.614173</td>\n",
              "    </tr>\n",
              "    <tr>\n",
              "      <th>1</th>\n",
              "      <td>491755</td>\n",
              "      <td>1.240012e+19</td>\n",
              "      <td>0</td>\n",
              "      <td>0.003250</td>\n",
              "      <td>0.363636</td>\n",
              "      <td>0.000000</td>\n",
              "      <td>260</td>\n",
              "      <td>2080</td>\n",
              "      <td>1</td>\n",
              "      <td>2060</td>\n",
              "      <td>63</td>\n",
              "      <td>0</td>\n",
              "      <td>a99f214a</td>\n",
              "      <td>9f351a94</td>\n",
              "      <td>1064</td>\n",
              "      <td>0.2</td>\n",
              "      <td>0.0</td>\n",
              "      <td>0.647541</td>\n",
              "      <td>0.221239</td>\n",
              "      <td>0.02988</td>\n",
              "      <td>0.608696</td>\n",
              "      <td>0.000000</td>\n",
              "      <td>0.001107</td>\n",
              "      <td>100084</td>\n",
              "      <td>0.307087</td>\n",
              "    </tr>\n",
              "    <tr>\n",
              "      <th>2</th>\n",
              "      <td>470924</td>\n",
              "      <td>1.059801e+19</td>\n",
              "      <td>0</td>\n",
              "      <td>0.003250</td>\n",
              "      <td>0.363636</td>\n",
              "      <td>0.142857</td>\n",
              "      <td>1879</td>\n",
              "      <td>1322</td>\n",
              "      <td>20</td>\n",
              "      <td>2060</td>\n",
              "      <td>63</td>\n",
              "      <td>0</td>\n",
              "      <td>a99f214a</td>\n",
              "      <td>158aae2e</td>\n",
              "      <td>3271</td>\n",
              "      <td>0.2</td>\n",
              "      <td>0.0</td>\n",
              "      <td>0.728367</td>\n",
              "      <td>0.221239</td>\n",
              "      <td>0.02988</td>\n",
              "      <td>0.711153</td>\n",
              "      <td>0.666667</td>\n",
              "      <td>0.570321</td>\n",
              "      <td>-1</td>\n",
              "      <td>0.125984</td>\n",
              "    </tr>\n",
              "    <tr>\n",
              "      <th>3</th>\n",
              "      <td>791624</td>\n",
              "      <td>1.844219e+18</td>\n",
              "      <td>0</td>\n",
              "      <td>0.004334</td>\n",
              "      <td>0.363636</td>\n",
              "      <td>0.142857</td>\n",
              "      <td>1145</td>\n",
              "      <td>769</td>\n",
              "      <td>20</td>\n",
              "      <td>2060</td>\n",
              "      <td>63</td>\n",
              "      <td>0</td>\n",
              "      <td>a99f214a</td>\n",
              "      <td>87f758ac</td>\n",
              "      <td>260</td>\n",
              "      <td>0.2</td>\n",
              "      <td>0.0</td>\n",
              "      <td>0.668962</td>\n",
              "      <td>0.221239</td>\n",
              "      <td>0.02988</td>\n",
              "      <td>0.638185</td>\n",
              "      <td>1.000000</td>\n",
              "      <td>0.074197</td>\n",
              "      <td>100075</td>\n",
              "      <td>0.086614</td>\n",
              "    </tr>\n",
              "    <tr>\n",
              "      <th>4</th>\n",
              "      <td>491263</td>\n",
              "      <td>1.236016e+19</td>\n",
              "      <td>1</td>\n",
              "      <td>0.003250</td>\n",
              "      <td>0.363636</td>\n",
              "      <td>0.142857</td>\n",
              "      <td>1879</td>\n",
              "      <td>1322</td>\n",
              "      <td>20</td>\n",
              "      <td>2060</td>\n",
              "      <td>63</td>\n",
              "      <td>0</td>\n",
              "      <td>a99f214a</td>\n",
              "      <td>d55aa41c</td>\n",
              "      <td>1035</td>\n",
              "      <td>0.2</td>\n",
              "      <td>0.0</td>\n",
              "      <td>0.728367</td>\n",
              "      <td>0.221239</td>\n",
              "      <td>0.02988</td>\n",
              "      <td>0.711153</td>\n",
              "      <td>0.666667</td>\n",
              "      <td>0.570321</td>\n",
              "      <td>-1</td>\n",
              "      <td>0.125984</td>\n",
              "    </tr>\n",
              "  </tbody>\n",
              "</table>\n",
              "</div>"
            ],
            "text/plain": [
              "   Unnamed: 0            id  click  ...       C19     C20       C21\n",
              "0      128037  1.107451e+19      0  ...  0.003322      -1  0.614173\n",
              "1      491755  1.240012e+19      0  ...  0.001107  100084  0.307087\n",
              "2      470924  1.059801e+19      0  ...  0.570321      -1  0.125984\n",
              "3      791624  1.844219e+18      0  ...  0.074197  100075  0.086614\n",
              "4      491263  1.236016e+19      1  ...  0.570321      -1  0.125984\n",
              "\n",
              "[5 rows x 25 columns]"
            ]
          },
          "metadata": {
            "tags": []
          },
          "execution_count": 16
        }
      ]
    },
    {
      "cell_type": "code",
      "metadata": {
        "id": "EiuY83nJ2wLJ",
        "colab_type": "code",
        "colab": {
          "base_uri": "https://localhost:8080/",
          "height": 241
        },
        "outputId": "3ad94845-15a4-48b8-e07d-1f990f9adeab"
      },
      "source": [
        "# Scaling dense features to range(0, 1)\n",
        "def Scale(x):\n",
        "  mms = MinMaxScaler(feature_range=(0, 1))\n",
        "  dataset[x] = mms.fit_transform(dataset[x])\n",
        "  return dataset\n",
        "dataset = Scale(Dense_feature)\n",
        "dataset.head()"
      ],
      "execution_count": null,
      "outputs": [
        {
          "output_type": "execute_result",
          "data": {
            "text/html": [
              "<div>\n",
              "<style scoped>\n",
              "    .dataframe tbody tr th:only-of-type {\n",
              "        vertical-align: middle;\n",
              "    }\n",
              "\n",
              "    .dataframe tbody tr th {\n",
              "        vertical-align: top;\n",
              "    }\n",
              "\n",
              "    .dataframe thead th {\n",
              "        text-align: right;\n",
              "    }\n",
              "</style>\n",
              "<table border=\"1\" class=\"dataframe\">\n",
              "  <thead>\n",
              "    <tr style=\"text-align: right;\">\n",
              "      <th></th>\n",
              "      <th>Unnamed: 0</th>\n",
              "      <th>id</th>\n",
              "      <th>click</th>\n",
              "      <th>hour</th>\n",
              "      <th>C1</th>\n",
              "      <th>banner_pos</th>\n",
              "      <th>site_id</th>\n",
              "      <th>site_domain</th>\n",
              "      <th>site_category</th>\n",
              "      <th>app_id</th>\n",
              "      <th>app_domain</th>\n",
              "      <th>app_category</th>\n",
              "      <th>device_id</th>\n",
              "      <th>device_ip</th>\n",
              "      <th>device_model</th>\n",
              "      <th>device_type</th>\n",
              "      <th>device_conn_type</th>\n",
              "      <th>C14</th>\n",
              "      <th>C15</th>\n",
              "      <th>C16</th>\n",
              "      <th>C17</th>\n",
              "      <th>C18</th>\n",
              "      <th>C19</th>\n",
              "      <th>C20</th>\n",
              "      <th>C21</th>\n",
              "    </tr>\n",
              "  </thead>\n",
              "  <tbody>\n",
              "    <tr>\n",
              "      <th>0</th>\n",
              "      <td>128037</td>\n",
              "      <td>1.107451e+19</td>\n",
              "      <td>0</td>\n",
              "      <td>0.001083</td>\n",
              "      <td>0.363636</td>\n",
              "      <td>0.142857</td>\n",
              "      <td>1939</td>\n",
              "      <td>1096</td>\n",
              "      <td>20</td>\n",
              "      <td>2060</td>\n",
              "      <td>63</td>\n",
              "      <td>0</td>\n",
              "      <td>a99f214a</td>\n",
              "      <td>10dcdfb1</td>\n",
              "      <td>2331</td>\n",
              "      <td>0.2</td>\n",
              "      <td>0.0</td>\n",
              "      <td>0.844051</td>\n",
              "      <td>0.221239</td>\n",
              "      <td>0.02988</td>\n",
              "      <td>0.839698</td>\n",
              "      <td>0.000000</td>\n",
              "      <td>0.003322</td>\n",
              "      <td>-1</td>\n",
              "      <td>0.614173</td>\n",
              "    </tr>\n",
              "    <tr>\n",
              "      <th>1</th>\n",
              "      <td>491755</td>\n",
              "      <td>1.240012e+19</td>\n",
              "      <td>0</td>\n",
              "      <td>0.003250</td>\n",
              "      <td>0.363636</td>\n",
              "      <td>0.000000</td>\n",
              "      <td>260</td>\n",
              "      <td>2080</td>\n",
              "      <td>1</td>\n",
              "      <td>2060</td>\n",
              "      <td>63</td>\n",
              "      <td>0</td>\n",
              "      <td>a99f214a</td>\n",
              "      <td>9f351a94</td>\n",
              "      <td>1064</td>\n",
              "      <td>0.2</td>\n",
              "      <td>0.0</td>\n",
              "      <td>0.647541</td>\n",
              "      <td>0.221239</td>\n",
              "      <td>0.02988</td>\n",
              "      <td>0.608696</td>\n",
              "      <td>0.000000</td>\n",
              "      <td>0.001107</td>\n",
              "      <td>100084</td>\n",
              "      <td>0.307087</td>\n",
              "    </tr>\n",
              "    <tr>\n",
              "      <th>2</th>\n",
              "      <td>470924</td>\n",
              "      <td>1.059801e+19</td>\n",
              "      <td>0</td>\n",
              "      <td>0.003250</td>\n",
              "      <td>0.363636</td>\n",
              "      <td>0.142857</td>\n",
              "      <td>1879</td>\n",
              "      <td>1322</td>\n",
              "      <td>20</td>\n",
              "      <td>2060</td>\n",
              "      <td>63</td>\n",
              "      <td>0</td>\n",
              "      <td>a99f214a</td>\n",
              "      <td>158aae2e</td>\n",
              "      <td>3271</td>\n",
              "      <td>0.2</td>\n",
              "      <td>0.0</td>\n",
              "      <td>0.728367</td>\n",
              "      <td>0.221239</td>\n",
              "      <td>0.02988</td>\n",
              "      <td>0.711153</td>\n",
              "      <td>0.666667</td>\n",
              "      <td>0.570321</td>\n",
              "      <td>-1</td>\n",
              "      <td>0.125984</td>\n",
              "    </tr>\n",
              "    <tr>\n",
              "      <th>3</th>\n",
              "      <td>791624</td>\n",
              "      <td>1.844219e+18</td>\n",
              "      <td>0</td>\n",
              "      <td>0.004334</td>\n",
              "      <td>0.363636</td>\n",
              "      <td>0.142857</td>\n",
              "      <td>1145</td>\n",
              "      <td>769</td>\n",
              "      <td>20</td>\n",
              "      <td>2060</td>\n",
              "      <td>63</td>\n",
              "      <td>0</td>\n",
              "      <td>a99f214a</td>\n",
              "      <td>87f758ac</td>\n",
              "      <td>260</td>\n",
              "      <td>0.2</td>\n",
              "      <td>0.0</td>\n",
              "      <td>0.668962</td>\n",
              "      <td>0.221239</td>\n",
              "      <td>0.02988</td>\n",
              "      <td>0.638185</td>\n",
              "      <td>1.000000</td>\n",
              "      <td>0.074197</td>\n",
              "      <td>100075</td>\n",
              "      <td>0.086614</td>\n",
              "    </tr>\n",
              "    <tr>\n",
              "      <th>4</th>\n",
              "      <td>491263</td>\n",
              "      <td>1.236016e+19</td>\n",
              "      <td>1</td>\n",
              "      <td>0.003250</td>\n",
              "      <td>0.363636</td>\n",
              "      <td>0.142857</td>\n",
              "      <td>1879</td>\n",
              "      <td>1322</td>\n",
              "      <td>20</td>\n",
              "      <td>2060</td>\n",
              "      <td>63</td>\n",
              "      <td>0</td>\n",
              "      <td>a99f214a</td>\n",
              "      <td>d55aa41c</td>\n",
              "      <td>1035</td>\n",
              "      <td>0.2</td>\n",
              "      <td>0.0</td>\n",
              "      <td>0.728367</td>\n",
              "      <td>0.221239</td>\n",
              "      <td>0.02988</td>\n",
              "      <td>0.711153</td>\n",
              "      <td>0.666667</td>\n",
              "      <td>0.570321</td>\n",
              "      <td>-1</td>\n",
              "      <td>0.125984</td>\n",
              "    </tr>\n",
              "  </tbody>\n",
              "</table>\n",
              "</div>"
            ],
            "text/plain": [
              "   Unnamed: 0            id  click  ...       C19     C20       C21\n",
              "0      128037  1.107451e+19      0  ...  0.003322      -1  0.614173\n",
              "1      491755  1.240012e+19      0  ...  0.001107  100084  0.307087\n",
              "2      470924  1.059801e+19      0  ...  0.570321      -1  0.125984\n",
              "3      791624  1.844219e+18      0  ...  0.074197  100075  0.086614\n",
              "4      491263  1.236016e+19      1  ...  0.570321      -1  0.125984\n",
              "\n",
              "[5 rows x 25 columns]"
            ]
          },
          "metadata": {
            "tags": []
          },
          "execution_count": 17
        }
      ]
    },
    {
      "cell_type": "markdown",
      "metadata": {
        "id": "jsmqpgQNaVpO",
        "colab_type": "text"
      },
      "source": [
        "##2. Model Apply and Evaluation"
      ]
    },
    {
      "cell_type": "code",
      "metadata": {
        "id": "mY4dno1F3oe7",
        "colab_type": "code",
        "colab": {}
      },
      "source": [
        "# embedding all features above\n",
        "fixlen_feature_columns = [SparseFeat(feat, vocabulary_size=dataset[feat].nunique(),embedding_dim=4)\n",
        "                           for i,feat in enumerate(Sparse_feature)] + [DenseFeat(feat, 1,)\n",
        "                          for feat in Dense_feature]"
      ],
      "execution_count": null,
      "outputs": []
    },
    {
      "cell_type": "code",
      "metadata": {
        "id": "iD1vkf9-4JgV",
        "colab_type": "code",
        "colab": {
          "base_uri": "https://localhost:8080/",
          "height": 340
        },
        "outputId": "20234cd9-7df6-411e-8186-8c2c6e57ebcb"
      },
      "source": [
        "dnn_feature_columns = fixlen_feature_columns\n",
        "linear_feature_columns = fixlen_feature_columns\n",
        "feature_names = get_feature_names(linear_feature_columns + dnn_feature_columns)\n",
        "feature_names"
      ],
      "execution_count": null,
      "outputs": [
        {
          "output_type": "execute_result",
          "data": {
            "text/plain": [
              "['site_id',\n",
              " 'site_domain',\n",
              " 'site_category',\n",
              " 'app_id',\n",
              " 'app_domain',\n",
              " 'app_category',\n",
              " 'device_model',\n",
              " 'hour',\n",
              " 'C1',\n",
              " 'banner_pos',\n",
              " 'device_type',\n",
              " 'device_conn_type',\n",
              " 'C14',\n",
              " 'C15',\n",
              " 'C16',\n",
              " 'C17',\n",
              " 'C18',\n",
              " 'C19',\n",
              " 'C21']"
            ]
          },
          "metadata": {
            "tags": []
          },
          "execution_count": 21
        }
      ]
    },
    {
      "cell_type": "code",
      "metadata": {
        "id": "EtZidZht4W1W",
        "colab_type": "code",
        "colab": {}
      },
      "source": [
        "# train and test split\n",
        "train, test = train_test_split(dataset, test_size=0.2)\n",
        "train_model_input = {name:train[name] for name in feature_names}\n",
        "test_model_input = {name:test[name] for name in feature_names}\n"
      ],
      "execution_count": null,
      "outputs": []
    },
    {
      "cell_type": "code",
      "metadata": {
        "id": "m6mpn06_4dyv",
        "colab_type": "code",
        "colab": {}
      },
      "source": [
        "# Apply DeepFM Model\n",
        "model = DeepFM(linear_feature_columns, dnn_feature_columns, task='binary')\n",
        "model.compile(\"adam\", \"binary_crossentropy\",\n",
        "                metrics=['binary_crossentropy'], )"
      ],
      "execution_count": null,
      "outputs": []
    },
    {
      "cell_type": "code",
      "metadata": {
        "id": "wNtRtnSN486z",
        "colab_type": "code",
        "colab": {
          "base_uri": "https://localhost:8080/",
          "height": 751
        },
        "outputId": "851118ff-22a9-4952-9d74-e6af785121a1"
      },
      "source": [
        "# Model Evaluation\n",
        "history = model.fit(train_model_input, train[target].values,\n",
        "                    batch_size=256, epochs=20, verbose=2, validation_split=0.2,)\n",
        "pred_ans = model.predict(test_model_input, batch_size=256)"
      ],
      "execution_count": null,
      "outputs": [
        {
          "output_type": "stream",
          "text": [
            "Epoch 1/20\n"
          ],
          "name": "stdout"
        },
        {
          "output_type": "stream",
          "text": [
            "/usr/local/lib/python3.6/dist-packages/tensorflow/python/framework/indexed_slices.py:434: UserWarning: Converting sparse IndexedSlices to a dense Tensor of unknown shape. This may consume a large amount of memory.\n",
            "  \"Converting sparse IndexedSlices to a dense Tensor of unknown shape. \"\n"
          ],
          "name": "stderr"
        },
        {
          "output_type": "stream",
          "text": [
            "1011/1011 - 6s - loss: 0.4120 - binary_crossentropy: 0.4117 - val_loss: 0.4066 - val_binary_crossentropy: 0.4058\n",
            "Epoch 2/20\n",
            "1011/1011 - 6s - loss: 0.4014 - binary_crossentropy: 0.4003 - val_loss: 0.4055 - val_binary_crossentropy: 0.4041\n",
            "Epoch 3/20\n",
            "1011/1011 - 6s - loss: 0.3983 - binary_crossentropy: 0.3966 - val_loss: 0.4060 - val_binary_crossentropy: 0.4041\n",
            "Epoch 4/20\n",
            "1011/1011 - 6s - loss: 0.3961 - binary_crossentropy: 0.3939 - val_loss: 0.4072 - val_binary_crossentropy: 0.4049\n",
            "Epoch 5/20\n",
            "1011/1011 - 6s - loss: 0.3940 - binary_crossentropy: 0.3915 - val_loss: 0.4082 - val_binary_crossentropy: 0.4055\n",
            "Epoch 6/20\n",
            "1011/1011 - 6s - loss: 0.3922 - binary_crossentropy: 0.3894 - val_loss: 0.4097 - val_binary_crossentropy: 0.4068\n",
            "Epoch 7/20\n",
            "1011/1011 - 6s - loss: 0.3902 - binary_crossentropy: 0.3872 - val_loss: 0.4115 - val_binary_crossentropy: 0.4084\n",
            "Epoch 8/20\n",
            "1011/1011 - 6s - loss: 0.3885 - binary_crossentropy: 0.3854 - val_loss: 0.4130 - val_binary_crossentropy: 0.4098\n",
            "Epoch 9/20\n",
            "1011/1011 - 6s - loss: 0.3870 - binary_crossentropy: 0.3837 - val_loss: 0.4167 - val_binary_crossentropy: 0.4133\n",
            "Epoch 10/20\n",
            "1011/1011 - 7s - loss: 0.3852 - binary_crossentropy: 0.3818 - val_loss: 0.4156 - val_binary_crossentropy: 0.4121\n",
            "Epoch 11/20\n",
            "1011/1011 - 9s - loss: 0.3834 - binary_crossentropy: 0.3799 - val_loss: 0.4183 - val_binary_crossentropy: 0.4147\n",
            "Epoch 12/20\n",
            "1011/1011 - 6s - loss: 0.3817 - binary_crossentropy: 0.3780 - val_loss: 0.4254 - val_binary_crossentropy: 0.4216\n",
            "Epoch 13/20\n",
            "1011/1011 - 6s - loss: 0.3799 - binary_crossentropy: 0.3762 - val_loss: 0.4227 - val_binary_crossentropy: 0.4189\n",
            "Epoch 14/20\n",
            "1011/1011 - 6s - loss: 0.3783 - binary_crossentropy: 0.3745 - val_loss: 0.4315 - val_binary_crossentropy: 0.4275\n",
            "Epoch 15/20\n",
            "1011/1011 - 6s - loss: 0.3767 - binary_crossentropy: 0.3727 - val_loss: 0.4328 - val_binary_crossentropy: 0.4288\n",
            "Epoch 16/20\n",
            "1011/1011 - 6s - loss: 0.3755 - binary_crossentropy: 0.3715 - val_loss: 0.4338 - val_binary_crossentropy: 0.4297\n",
            "Epoch 17/20\n",
            "1011/1011 - 6s - loss: 0.3740 - binary_crossentropy: 0.3699 - val_loss: 0.4396 - val_binary_crossentropy: 0.4354\n",
            "Epoch 18/20\n",
            "1011/1011 - 6s - loss: 0.3727 - binary_crossentropy: 0.3685 - val_loss: 0.4455 - val_binary_crossentropy: 0.4413\n",
            "Epoch 19/20\n",
            "1011/1011 - 6s - loss: 0.3717 - binary_crossentropy: 0.3674 - val_loss: 0.4433 - val_binary_crossentropy: 0.4389\n",
            "Epoch 20/20\n",
            "1011/1011 - 6s - loss: 0.3703 - binary_crossentropy: 0.3660 - val_loss: 0.4551 - val_binary_crossentropy: 0.4507\n"
          ],
          "name": "stdout"
        }
      ]
    },
    {
      "cell_type": "code",
      "metadata": {
        "id": "0zG2rHvS7xZW",
        "colab_type": "code",
        "colab": {
          "base_uri": "https://localhost:8080/",
          "height": 34
        },
        "outputId": "04de64f3-bd60-4846-d817-69b4389fccc8"
      },
      "source": [
        "print(\"test AUC\", round(roc_auc_score(test[target].values, pred_ans), 4))"
      ],
      "execution_count": null,
      "outputs": [
        {
          "output_type": "stream",
          "text": [
            "test AUC 0.7216\n"
          ],
          "name": "stdout"
        }
      ]
    }
  ]
}